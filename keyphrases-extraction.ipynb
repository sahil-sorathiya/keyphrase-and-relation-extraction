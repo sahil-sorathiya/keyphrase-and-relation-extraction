{
 "cells": [
  {
   "cell_type": "code",
   "execution_count": 1,
   "id": "9cb9f767",
   "metadata": {
    "execution": {
     "iopub.execute_input": "2024-05-07T16:02:03.941126Z",
     "iopub.status.busy": "2024-05-07T16:02:03.940306Z",
     "iopub.status.idle": "2024-05-07T16:02:05.413900Z",
     "shell.execute_reply": "2024-05-07T16:02:05.412860Z"
    },
    "papermill": {
     "duration": 1.490211,
     "end_time": "2024-05-07T16:02:05.416476",
     "exception": false,
     "start_time": "2024-05-07T16:02:03.926265",
     "status": "completed"
    },
    "tags": []
   },
   "outputs": [],
   "source": [
    "import re\n",
    "import codecs\n",
    "import itertools\n",
    "import os\n",
    "from nltk import word_tokenize\n",
    "from nltk.stem.porter import PorterStemmer\n",
    "from nltk.corpus import stopwords\n",
    "from string import punctuation\n"
   ]
  },
  {
   "cell_type": "code",
   "execution_count": 2,
   "id": "c3ebbdba",
   "metadata": {
    "execution": {
     "iopub.execute_input": "2024-05-07T16:02:05.441417Z",
     "iopub.status.busy": "2024-05-07T16:02:05.441108Z",
     "iopub.status.idle": "2024-05-07T16:02:12.291476Z",
     "shell.execute_reply": "2024-05-07T16:02:12.290659Z"
    },
    "papermill": {
     "duration": 6.86525,
     "end_time": "2024-05-07T16:02:12.293856",
     "exception": false,
     "start_time": "2024-05-07T16:02:05.428606",
     "status": "completed"
    },
    "tags": []
   },
   "outputs": [],
   "source": [
    "from transformers import BertTokenizer, BertModel\n",
    "import torch\n",
    "from torch.utils.data import DataLoader, Dataset\n",
    "from transformers.optimization import AdamW, get_linear_schedule_with_warmup"
   ]
  },
  {
   "cell_type": "code",
   "execution_count": 3,
   "id": "49ef2686",
   "metadata": {
    "execution": {
     "iopub.execute_input": "2024-05-07T16:02:12.319768Z",
     "iopub.status.busy": "2024-05-07T16:02:12.319221Z",
     "iopub.status.idle": "2024-05-07T16:02:13.060812Z",
     "shell.execute_reply": "2024-05-07T16:02:13.059965Z"
    },
    "papermill": {
     "duration": 0.757088,
     "end_time": "2024-05-07T16:02:13.063135",
     "exception": false,
     "start_time": "2024-05-07T16:02:12.306047",
     "status": "completed"
    },
    "tags": []
   },
   "outputs": [],
   "source": [
    "import torch\n",
    "import torch.nn as nn\n",
    "import torch.optim as optim\n",
    "from torch.utils.data import Dataset, DataLoader\n",
    "from sklearn.model_selection import train_test_split\n",
    "from sklearn.preprocessing import LabelEncoder\n",
    "import torch.nn.utils.rnn as rnn_utils\n",
    "import os\n",
    "import pandas as pd\n",
    "from nltk.tokenize import word_tokenize\n",
    "from sklearn.feature_extraction.text import CountVectorizer\n",
    "from sklearn.metrics import classification_report\n",
    "\n",
    "from nltk.stem import PorterStemmer\n",
    "porter_stemmer = PorterStemmer()\n",
    "from torch.nn.utils.rnn import pad_sequence\n",
    "from tqdm import tqdm\n",
    "import numpy as np\n",
    "device = \"cuda\" if torch.cuda.is_available() else \"cpu\""
   ]
  },
  {
   "cell_type": "code",
   "execution_count": 4,
   "id": "7d43a72b",
   "metadata": {
    "execution": {
     "iopub.execute_input": "2024-05-07T16:02:13.089263Z",
     "iopub.status.busy": "2024-05-07T16:02:13.088800Z",
     "iopub.status.idle": "2024-05-07T16:02:13.182677Z",
     "shell.execute_reply": "2024-05-07T16:02:13.181778Z"
    },
    "papermill": {
     "duration": 0.109832,
     "end_time": "2024-05-07T16:02:13.184973",
     "exception": false,
     "start_time": "2024-05-07T16:02:13.075141",
     "status": "completed"
    },
    "tags": []
   },
   "outputs": [
    {
     "name": "stdout",
     "output_type": "stream",
     "text": [
      "[nltk_data] Downloading package averaged_perceptron_tagger to\n",
      "[nltk_data]     /usr/share/nltk_data...\n",
      "[nltk_data]   Package averaged_perceptron_tagger is already up-to-\n",
      "[nltk_data]       date!\n"
     ]
    },
    {
     "data": {
      "text/plain": [
       "True"
      ]
     },
     "execution_count": 4,
     "metadata": {},
     "output_type": "execute_result"
    }
   ],
   "source": [
    "from __future__ import division\n",
    "from argparse import ArgumentParser, ArgumentDefaultsHelpFormatter\n",
    "import sys\n",
    "import os\n",
    "from os.path import isfile, join\n",
    "from nltk.stem.porter import PorterStemmer\n",
    "porter_stemmer = PorterStemmer()\n",
    "import nltk\n",
    "nltk.download('averaged_perceptron_tagger')"
   ]
  },
  {
   "cell_type": "code",
   "execution_count": 5,
   "id": "5a2c6f2a",
   "metadata": {
    "execution": {
     "iopub.execute_input": "2024-05-07T16:02:13.211603Z",
     "iopub.status.busy": "2024-05-07T16:02:13.210687Z",
     "iopub.status.idle": "2024-05-07T16:02:13.216596Z",
     "shell.execute_reply": "2024-05-07T16:02:13.215678Z"
    },
    "papermill": {
     "duration": 0.021411,
     "end_time": "2024-05-07T16:02:13.218680",
     "exception": false,
     "start_time": "2024-05-07T16:02:13.197269",
     "status": "completed"
    },
    "tags": []
   },
   "outputs": [],
   "source": [
    "def read_input_file(input_file , mode=\"r\" , encoding='utf-8'):\n",
    "    \n",
    "    text = \"\"\n",
    "\n",
    "    if os.path.exists(input_file) :\n",
    "        with codecs.open(input_file , mode , encoding) as f :\n",
    "            text = f.read()\n",
    "        \n",
    "        f.close()\n",
    "        return text\n",
    "    \n",
    "    return None"
   ]
  },
  {
   "cell_type": "code",
   "execution_count": 6,
   "id": "1de688c7",
   "metadata": {
    "execution": {
     "iopub.execute_input": "2024-05-07T16:02:13.245677Z",
     "iopub.status.busy": "2024-05-07T16:02:13.244818Z",
     "iopub.status.idle": "2024-05-07T16:02:13.250589Z",
     "shell.execute_reply": "2024-05-07T16:02:13.249561Z"
    },
    "papermill": {
     "duration": 0.021549,
     "end_time": "2024-05-07T16:02:13.252608",
     "exception": false,
     "start_time": "2024-05-07T16:02:13.231059",
     "status": "completed"
    },
    "tags": []
   },
   "outputs": [],
   "source": [
    "def read_gold_file(gold_file , mode=\"r\" , encoding='utf-8'):\n",
    "\n",
    "    text = \"\"\n",
    "\n",
    "    if os.path.exists(gold_file) :\n",
    "        with codecs.open(gold_file , mode , encoding) as f :\n",
    "            text = f.readlines()\n",
    "        \n",
    "        f.close()\n",
    "        return text\n",
    "    \n",
    "    return None"
   ]
  },
  {
   "cell_type": "code",
   "execution_count": 7,
   "id": "b9a96509",
   "metadata": {
    "execution": {
     "iopub.execute_input": "2024-05-07T16:02:13.278189Z",
     "iopub.status.busy": "2024-05-07T16:02:13.277591Z",
     "iopub.status.idle": "2024-05-07T16:02:13.281774Z",
     "shell.execute_reply": "2024-05-07T16:02:13.280929Z"
    },
    "papermill": {
     "duration": 0.019157,
     "end_time": "2024-05-07T16:02:13.283631",
     "exception": false,
     "start_time": "2024-05-07T16:02:13.264474",
     "status": "completed"
    },
    "tags": []
   },
   "outputs": [],
   "source": [
    "def tokenize(text):\n",
    "    \n",
    "    return text.split()"
   ]
  },
  {
   "cell_type": "code",
   "execution_count": 8,
   "id": "f6f29e3c",
   "metadata": {
    "execution": {
     "iopub.execute_input": "2024-05-07T16:02:13.308250Z",
     "iopub.status.busy": "2024-05-07T16:02:13.307972Z",
     "iopub.status.idle": "2024-05-07T16:02:13.315149Z",
     "shell.execute_reply": "2024-05-07T16:02:13.314295Z"
    },
    "papermill": {
     "duration": 0.021602,
     "end_time": "2024-05-07T16:02:13.316993",
     "exception": false,
     "start_time": "2024-05-07T16:02:13.295391",
     "status": "completed"
    },
    "scrolled": true,
    "tags": []
   },
   "outputs": [],
   "source": [
    "def get_dataset(abstract_file_path , keyphrases_file_path):\n",
    "    \n",
    "    abstract_dataset = []\n",
    "    keyphrases_dataset = []\n",
    "    \n",
    "    files = [f for f in os.listdir(abstract_file_path) if isfile(join(abstract_file_path, f))]\n",
    "    i =0\n",
    "    \n",
    "    \n",
    "    for file in files:\n",
    "            \n",
    "        abstract_file = abstract_file_path + \"/\" + file \n",
    "        keyphrases_file = keyphrases_file_path + \"/\" + file \n",
    "        \n",
    "        abtract = read_input_file(abstract_file)\n",
    "        keyphrases = read_gold_file(keyphrases_file)\n",
    "        \n",
    "        new_keyphrases = []\n",
    "        \n",
    "        for key in keyphrases:\n",
    "            splitted_key = key.split(\"!!!\")\n",
    "            new_keyphrases.append(splitted_key[0])\n",
    "        \n",
    "#         if  i ==0:\n",
    "#             i = 2\n",
    "#             print(file)\n",
    "#             print(type(keyphrases))\n",
    "#             print(keyphrases)\n",
    "#             print(\"==================================\")\n",
    "#             print(new_keyphrases)\n",
    "#             print(type(new_keyphrases))\n",
    "        \n",
    "        abstract_dataset.append(abtract)\n",
    "        keyphrases_dataset.append(new_keyphrases)\n",
    "        \n",
    "        \n",
    "    return abstract_dataset , keyphrases_dataset"
   ]
  },
  {
   "cell_type": "code",
   "execution_count": 9,
   "id": "fb75e7a7",
   "metadata": {
    "execution": {
     "iopub.execute_input": "2024-05-07T16:02:13.341314Z",
     "iopub.status.busy": "2024-05-07T16:02:13.341038Z",
     "iopub.status.idle": "2024-05-07T16:02:13.345615Z",
     "shell.execute_reply": "2024-05-07T16:02:13.344778Z"
    },
    "papermill": {
     "duration": 0.018893,
     "end_time": "2024-05-07T16:02:13.347521",
     "exception": false,
     "start_time": "2024-05-07T16:02:13.328628",
     "status": "completed"
    },
    "tags": []
   },
   "outputs": [],
   "source": [
    "train_abstract_folder_path = '/kaggle/input/keyphrases-exctraction-seam-eval2017/preprocessed_dataset/train/paragraphs'\n",
    "train_keyphrases_folder_path = '/kaggle/input/keyphrases-exctraction-seam-eval2017/preprocessed_dataset/train/keyphrases'\n",
    "val_abstract_folder_path = '/kaggle/input/keyphrases-exctraction-seam-eval2017/preprocessed_dataset/val/paragraphs'\n",
    "val_keyphrases_folder_path = '/kaggle/input/keyphrases-exctraction-seam-eval2017/preprocessed_dataset/val/keyphrases'\n",
    "test_abstract_folder_path = '/kaggle/input/keyphrases-exctraction-seam-eval2017/preprocessed_dataset/test/paragraphs'\n",
    "test_keyphrases_folder_path = '/kaggle/input/keyphrases-exctraction-seam-eval2017/preprocessed_dataset/test/keyphrases'\n"
   ]
  },
  {
   "cell_type": "code",
   "execution_count": 10,
   "id": "c0327825",
   "metadata": {
    "execution": {
     "iopub.execute_input": "2024-05-07T16:02:13.372117Z",
     "iopub.status.busy": "2024-05-07T16:02:13.371359Z",
     "iopub.status.idle": "2024-05-07T16:02:17.127078Z",
     "shell.execute_reply": "2024-05-07T16:02:17.126233Z"
    },
    "papermill": {
     "duration": 3.770418,
     "end_time": "2024-05-07T16:02:17.129421",
     "exception": false,
     "start_time": "2024-05-07T16:02:13.359003",
     "status": "completed"
    },
    "tags": []
   },
   "outputs": [],
   "source": [
    "train_abstract , train_keyphrases = get_dataset(train_abstract_folder_path , train_keyphrases_folder_path)\n",
    "val_abstract , val_keyphrases = get_dataset(val_abstract_folder_path , val_keyphrases_folder_path)\n",
    "test_abstract , test_keyphrases = get_dataset(test_abstract_folder_path , test_keyphrases_folder_path)"
   ]
  },
  {
   "cell_type": "code",
   "execution_count": 11,
   "id": "979ddd49",
   "metadata": {
    "execution": {
     "iopub.execute_input": "2024-05-07T16:02:17.154538Z",
     "iopub.status.busy": "2024-05-07T16:02:17.154205Z",
     "iopub.status.idle": "2024-05-07T16:02:17.159400Z",
     "shell.execute_reply": "2024-05-07T16:02:17.158438Z"
    },
    "papermill": {
     "duration": 0.019794,
     "end_time": "2024-05-07T16:02:17.161248",
     "exception": false,
     "start_time": "2024-05-07T16:02:17.141454",
     "status": "completed"
    },
    "tags": []
   },
   "outputs": [
    {
     "name": "stdout",
     "output_type": "stream",
     "text": [
      "The size of Train:  350\n",
      "The size of Validation:  50\n",
      "The size of Test:  100\n"
     ]
    }
   ],
   "source": [
    "print(\"The size of Train: \" , len(train_abstract))\n",
    "print(\"The size of Validation: \" , len(val_abstract))\n",
    "print(\"The size of Test: \" , len(test_abstract))"
   ]
  },
  {
   "cell_type": "code",
   "execution_count": 12,
   "id": "b5342805",
   "metadata": {
    "execution": {
     "iopub.execute_input": "2024-05-07T16:02:17.185869Z",
     "iopub.status.busy": "2024-05-07T16:02:17.185559Z",
     "iopub.status.idle": "2024-05-07T16:02:17.189330Z",
     "shell.execute_reply": "2024-05-07T16:02:17.188470Z"
    },
    "papermill": {
     "duration": 0.018423,
     "end_time": "2024-05-07T16:02:17.191306",
     "exception": false,
     "start_time": "2024-05-07T16:02:17.172883",
     "status": "completed"
    },
    "tags": []
   },
   "outputs": [],
   "source": [
    "# val_abstract = val_abstract[:4]\n",
    "# val_keyphrases = val_keyphrases[:4]"
   ]
  },
  {
   "cell_type": "code",
   "execution_count": 13,
   "id": "d040b36a",
   "metadata": {
    "execution": {
     "iopub.execute_input": "2024-05-07T16:02:17.216144Z",
     "iopub.status.busy": "2024-05-07T16:02:17.215855Z",
     "iopub.status.idle": "2024-05-07T16:02:17.219566Z",
     "shell.execute_reply": "2024-05-07T16:02:17.218742Z"
    },
    "papermill": {
     "duration": 0.018232,
     "end_time": "2024-05-07T16:02:17.221457",
     "exception": false,
     "start_time": "2024-05-07T16:02:17.203225",
     "status": "completed"
    },
    "tags": []
   },
   "outputs": [],
   "source": [
    "# val_keyphrases"
   ]
  },
  {
   "cell_type": "code",
   "execution_count": 14,
   "id": "9c3bc763",
   "metadata": {
    "execution": {
     "iopub.execute_input": "2024-05-07T16:02:17.245709Z",
     "iopub.status.busy": "2024-05-07T16:02:17.245462Z",
     "iopub.status.idle": "2024-05-07T16:02:17.250565Z",
     "shell.execute_reply": "2024-05-07T16:02:17.249587Z"
    },
    "papermill": {
     "duration": 0.019381,
     "end_time": "2024-05-07T16:02:17.252374",
     "exception": false,
     "start_time": "2024-05-07T16:02:17.232993",
     "status": "completed"
    },
    "tags": []
   },
   "outputs": [],
   "source": [
    "import torch\n",
    "from transformers import BertTokenizer, BertForTokenClassification, AdamW\n",
    "from torch.utils.data import TensorDataset, DataLoader, RandomSampler, SequentialSampler\n",
    "from sklearn.model_selection import train_test_split\n",
    "from tqdm import tqdm"
   ]
  },
  {
   "cell_type": "code",
   "execution_count": 15,
   "id": "15526cb0",
   "metadata": {
    "execution": {
     "iopub.execute_input": "2024-05-07T16:02:17.277765Z",
     "iopub.status.busy": "2024-05-07T16:02:17.276835Z",
     "iopub.status.idle": "2024-05-07T16:02:17.321262Z",
     "shell.execute_reply": "2024-05-07T16:02:17.320495Z"
    },
    "papermill": {
     "duration": 0.059555,
     "end_time": "2024-05-07T16:02:17.323452",
     "exception": false,
     "start_time": "2024-05-07T16:02:17.263897",
     "status": "completed"
    },
    "tags": []
   },
   "outputs": [],
   "source": [
    "import torch\n",
    "from transformers import DebertaTokenizer, DebertaForTokenClassification, AdamW, AutoTokenizer\n",
    "from torch.utils.data import TensorDataset, DataLoader, RandomSampler, SequentialSampler\n",
    "from sklearn.model_selection import train_test_split\n",
    "from tqdm import tqdm\n",
    "from sklearn.metrics import precision_score, recall_score, f1_score"
   ]
  },
  {
   "cell_type": "code",
   "execution_count": 16,
   "id": "ba660c9a",
   "metadata": {
    "execution": {
     "iopub.execute_input": "2024-05-07T16:02:17.350214Z",
     "iopub.status.busy": "2024-05-07T16:02:17.349831Z",
     "iopub.status.idle": "2024-05-07T16:02:18.755894Z",
     "shell.execute_reply": "2024-05-07T16:02:18.755066Z"
    },
    "papermill": {
     "duration": 1.422349,
     "end_time": "2024-05-07T16:02:18.758158",
     "exception": false,
     "start_time": "2024-05-07T16:02:17.335809",
     "status": "completed"
    },
    "tags": []
   },
   "outputs": [
    {
     "data": {
      "application/vnd.jupyter.widget-view+json": {
       "model_id": "b076f6e1ed0041eb95753dc347213308",
       "version_major": 2,
       "version_minor": 0
      },
      "text/plain": [
       "tokenizer_config.json:   0%|          | 0.00/48.0 [00:00<?, ?B/s]"
      ]
     },
     "metadata": {},
     "output_type": "display_data"
    },
    {
     "data": {
      "application/vnd.jupyter.widget-view+json": {
       "model_id": "65f7b85b8cf34146af39008c92481d21",
       "version_major": 2,
       "version_minor": 0
      },
      "text/plain": [
       "vocab.txt:   0%|          | 0.00/232k [00:00<?, ?B/s]"
      ]
     },
     "metadata": {},
     "output_type": "display_data"
    },
    {
     "data": {
      "application/vnd.jupyter.widget-view+json": {
       "model_id": "7e6601d90c3f4f9aab6d1be4021677fc",
       "version_major": 2,
       "version_minor": 0
      },
      "text/plain": [
       "tokenizer.json:   0%|          | 0.00/466k [00:00<?, ?B/s]"
      ]
     },
     "metadata": {},
     "output_type": "display_data"
    },
    {
     "data": {
      "application/vnd.jupyter.widget-view+json": {
       "model_id": "e5ec19e0475a4403b57b9d42b47f205e",
       "version_major": 2,
       "version_minor": 0
      },
      "text/plain": [
       "config.json:   0%|          | 0.00/570 [00:00<?, ?B/s]"
      ]
     },
     "metadata": {},
     "output_type": "display_data"
    }
   ],
   "source": [
    "tokenizer = BertTokenizer.from_pretrained('bert-base-uncased', do_lower_case=True)\n",
    "# tokenizer = AutoTokenizer.from_pretrained(\"microsoft/deberta-v2-xlarge\")\n"
   ]
  },
  {
   "cell_type": "code",
   "execution_count": 17,
   "id": "23f93234",
   "metadata": {
    "execution": {
     "iopub.execute_input": "2024-05-07T16:02:18.785009Z",
     "iopub.status.busy": "2024-05-07T16:02:18.784632Z",
     "iopub.status.idle": "2024-05-07T16:02:18.792058Z",
     "shell.execute_reply": "2024-05-07T16:02:18.791187Z"
    },
    "papermill": {
     "duration": 0.022993,
     "end_time": "2024-05-07T16:02:18.793970",
     "exception": false,
     "start_time": "2024-05-07T16:02:18.770977",
     "status": "completed"
    },
    "tags": []
   },
   "outputs": [],
   "source": [
    "def masking_and_labeling(abstract_dataset , keyphrases_dataset):\n",
    "        \n",
    "    tokenized_texts = []\n",
    "    formatted_labels_list = []\n",
    "\n",
    "    for abstract, keyphrase_list in zip(abstract_dataset, keyphrases_dataset):\n",
    "        tokenized_abstract = tokenizer.tokenize(abstract)\n",
    "        tokenized_texts.append(tokenized_abstract)\n",
    "\n",
    "        formatted_label = [0] * len(tokenized_abstract)  # Initialize labels with zeros\n",
    "\n",
    "        for keyphrase in keyphrase_list:\n",
    "            keyphrase_tokens = tokenizer.tokenize(keyphrase)\n",
    "            for i in range(len(tokenized_abstract) - len(keyphrase_tokens) + 1):\n",
    "                if tokenized_abstract[i:i + len(keyphrase_tokens)] == keyphrase_tokens:\n",
    "                    for j in range(i, i + len(keyphrase_tokens)):\n",
    "                        formatted_label[j] = 1  # Set labels of keyphrase tokens to 1\n",
    "    #                 break\n",
    "        formatted_labels_list.append(formatted_label)\n",
    "    \n",
    "    return tokenized_texts , formatted_labels_list"
   ]
  },
  {
   "cell_type": "code",
   "execution_count": 18,
   "id": "9922138e",
   "metadata": {
    "execution": {
     "iopub.execute_input": "2024-05-07T16:02:18.820680Z",
     "iopub.status.busy": "2024-05-07T16:02:18.819914Z",
     "iopub.status.idle": "2024-05-07T16:02:24.775210Z",
     "shell.execute_reply": "2024-05-07T16:02:24.774142Z"
    },
    "papermill": {
     "duration": 5.971131,
     "end_time": "2024-05-07T16:02:24.777629",
     "exception": false,
     "start_time": "2024-05-07T16:02:18.806498",
     "status": "completed"
    },
    "tags": []
   },
   "outputs": [],
   "source": [
    "train_tokenized_texts , train_labels = masking_and_labeling(train_abstract , train_keyphrases)\n",
    "val_tokenized_texts , val_labels = masking_and_labeling(val_abstract , val_keyphrases)\n",
    "test_tokenized_texts , test_labels = masking_and_labeling(test_abstract , test_keyphrases)"
   ]
  },
  {
   "cell_type": "code",
   "execution_count": 19,
   "id": "ec51ffd4",
   "metadata": {
    "execution": {
     "iopub.execute_input": "2024-05-07T16:02:24.805544Z",
     "iopub.status.busy": "2024-05-07T16:02:24.804617Z",
     "iopub.status.idle": "2024-05-07T16:02:24.810733Z",
     "shell.execute_reply": "2024-05-07T16:02:24.809868Z"
    },
    "papermill": {
     "duration": 0.022045,
     "end_time": "2024-05-07T16:02:24.812689",
     "exception": false,
     "start_time": "2024-05-07T16:02:24.790644",
     "status": "completed"
    },
    "tags": []
   },
   "outputs": [
    {
     "data": {
      "text/plain": [
       "350"
      ]
     },
     "execution_count": 19,
     "metadata": {},
     "output_type": "execute_result"
    }
   ],
   "source": [
    "len(train_tokenized_texts)"
   ]
  },
  {
   "cell_type": "code",
   "execution_count": 20,
   "id": "c96ca1b2",
   "metadata": {
    "execution": {
     "iopub.execute_input": "2024-05-07T16:02:24.839347Z",
     "iopub.status.busy": "2024-05-07T16:02:24.838667Z",
     "iopub.status.idle": "2024-05-07T16:02:24.844549Z",
     "shell.execute_reply": "2024-05-07T16:02:24.843630Z"
    },
    "papermill": {
     "duration": 0.021131,
     "end_time": "2024-05-07T16:02:24.846484",
     "exception": false,
     "start_time": "2024-05-07T16:02:24.825353",
     "status": "completed"
    },
    "tags": []
   },
   "outputs": [],
   "source": [
    "def dataset(tokenized_texts , formatted_labels_list):\n",
    "    max_length = max(len(txt) for txt in tokenized_texts)\n",
    "    input_ids = torch.tensor([tokenizer.convert_tokens_to_ids(txt + ['[PAD]'] * (max_length - len(txt))) for txt in tokenized_texts])\n",
    "\n",
    "    labels = torch.tensor([lbl + [0] * (max_length - len(lbl)) for lbl in formatted_labels_list])\n",
    "    \n",
    "    masks = torch.where(input_ids != 0, torch.tensor(1), torch.tensor(0))\n",
    "    \n",
    "    return input_ids , labels, masks"
   ]
  },
  {
   "cell_type": "code",
   "execution_count": 21,
   "id": "e810a7e3",
   "metadata": {
    "execution": {
     "iopub.execute_input": "2024-05-07T16:02:24.872518Z",
     "iopub.status.busy": "2024-05-07T16:02:24.872267Z",
     "iopub.status.idle": "2024-05-07T16:02:25.228599Z",
     "shell.execute_reply": "2024-05-07T16:02:25.227774Z"
    },
    "papermill": {
     "duration": 0.372198,
     "end_time": "2024-05-07T16:02:25.231150",
     "exception": false,
     "start_time": "2024-05-07T16:02:24.858952",
     "status": "completed"
    },
    "tags": []
   },
   "outputs": [],
   "source": [
    "train_inputs , train_labels , train_mask = dataset(train_tokenized_texts , train_labels)\n",
    "val_inputs , val_labels , val_mask = dataset(val_tokenized_texts , val_labels)\n",
    "test_inputs  , test_labels , test_mask = dataset(test_tokenized_texts , test_labels)"
   ]
  },
  {
   "cell_type": "code",
   "execution_count": 22,
   "id": "19d45500",
   "metadata": {
    "execution": {
     "iopub.execute_input": "2024-05-07T16:02:25.258052Z",
     "iopub.status.busy": "2024-05-07T16:02:25.257728Z",
     "iopub.status.idle": "2024-05-07T16:02:25.272679Z",
     "shell.execute_reply": "2024-05-07T16:02:25.271957Z"
    },
    "papermill": {
     "duration": 0.030641,
     "end_time": "2024-05-07T16:02:25.274592",
     "exception": false,
     "start_time": "2024-05-07T16:02:25.243951",
     "status": "completed"
    },
    "tags": []
   },
   "outputs": [
    {
     "data": {
      "text/plain": [
       "30522"
      ]
     },
     "execution_count": 22,
     "metadata": {},
     "output_type": "execute_result"
    }
   ],
   "source": [
    "id_to_token = {token_id: token for token, token_id in tokenizer.vocab.items()}\n",
    "len(id_to_token)"
   ]
  },
  {
   "cell_type": "code",
   "execution_count": null,
   "id": "87f25cca",
   "metadata": {
    "papermill": {
     "duration": 0.01253,
     "end_time": "2024-05-07T16:02:25.299997",
     "exception": false,
     "start_time": "2024-05-07T16:02:25.287467",
     "status": "completed"
    },
    "tags": []
   },
   "outputs": [],
   "source": []
  },
  {
   "cell_type": "code",
   "execution_count": 23,
   "id": "7f615517",
   "metadata": {
    "execution": {
     "iopub.execute_input": "2024-05-07T16:02:25.327065Z",
     "iopub.status.busy": "2024-05-07T16:02:25.326384Z",
     "iopub.status.idle": "2024-05-07T16:02:25.331504Z",
     "shell.execute_reply": "2024-05-07T16:02:25.330578Z"
    },
    "papermill": {
     "duration": 0.021015,
     "end_time": "2024-05-07T16:02:25.333456",
     "exception": false,
     "start_time": "2024-05-07T16:02:25.312441",
     "status": "completed"
    },
    "tags": []
   },
   "outputs": [],
   "source": [
    "train_data = TensorDataset(train_inputs, train_mask, train_labels)\n",
    "train_sampler = RandomSampler(train_data)\n",
    "train_dataloader = DataLoader(train_data, sampler=train_sampler, batch_size=16)\n"
   ]
  },
  {
   "cell_type": "code",
   "execution_count": 24,
   "id": "bd03c3d6",
   "metadata": {
    "execution": {
     "iopub.execute_input": "2024-05-07T16:02:25.361774Z",
     "iopub.status.busy": "2024-05-07T16:02:25.361068Z",
     "iopub.status.idle": "2024-05-07T16:02:25.366247Z",
     "shell.execute_reply": "2024-05-07T16:02:25.365242Z"
    },
    "papermill": {
     "duration": 0.021584,
     "end_time": "2024-05-07T16:02:25.368222",
     "exception": false,
     "start_time": "2024-05-07T16:02:25.346638",
     "status": "completed"
    },
    "tags": []
   },
   "outputs": [],
   "source": [
    "validation_data = TensorDataset(val_inputs, val_mask, val_labels)\n",
    "validation_sampler = RandomSampler(validation_data)\n",
    "validation_dataloader = DataLoader(validation_data, sampler=validation_sampler, batch_size=16)"
   ]
  },
  {
   "cell_type": "code",
   "execution_count": 25,
   "id": "e9e330e7",
   "metadata": {
    "execution": {
     "iopub.execute_input": "2024-05-07T16:02:25.396687Z",
     "iopub.status.busy": "2024-05-07T16:02:25.395690Z",
     "iopub.status.idle": "2024-05-07T16:02:25.400857Z",
     "shell.execute_reply": "2024-05-07T16:02:25.399981Z"
    },
    "papermill": {
     "duration": 0.021507,
     "end_time": "2024-05-07T16:02:25.402851",
     "exception": false,
     "start_time": "2024-05-07T16:02:25.381344",
     "status": "completed"
    },
    "tags": []
   },
   "outputs": [],
   "source": [
    "test_data = TensorDataset(test_inputs, test_mask, test_labels)\n",
    "test_sampler = RandomSampler(test_data)\n",
    "test_dataloader = DataLoader(test_data, sampler=test_sampler, batch_size=16)"
   ]
  },
  {
   "cell_type": "code",
   "execution_count": 26,
   "id": "bef9cd74",
   "metadata": {
    "execution": {
     "iopub.execute_input": "2024-05-07T16:02:25.429339Z",
     "iopub.status.busy": "2024-05-07T16:02:25.429060Z",
     "iopub.status.idle": "2024-05-07T16:02:25.443718Z",
     "shell.execute_reply": "2024-05-07T16:02:25.443029Z"
    },
    "papermill": {
     "duration": 0.03013,
     "end_time": "2024-05-07T16:02:25.445641",
     "exception": false,
     "start_time": "2024-05-07T16:02:25.415511",
     "status": "completed"
    },
    "tags": []
   },
   "outputs": [],
   "source": [
    "from transformers import AutoTokenizer, DebertaV2Model"
   ]
  },
  {
   "cell_type": "code",
   "execution_count": 27,
   "id": "7a082d32",
   "metadata": {
    "execution": {
     "iopub.execute_input": "2024-05-07T16:02:25.512923Z",
     "iopub.status.busy": "2024-05-07T16:02:25.512261Z",
     "iopub.status.idle": "2024-05-07T16:02:27.834470Z",
     "shell.execute_reply": "2024-05-07T16:02:27.833515Z"
    },
    "papermill": {
     "duration": 2.338071,
     "end_time": "2024-05-07T16:02:27.836640",
     "exception": false,
     "start_time": "2024-05-07T16:02:25.498569",
     "status": "completed"
    },
    "tags": []
   },
   "outputs": [
    {
     "data": {
      "application/vnd.jupyter.widget-view+json": {
       "model_id": "15794897b7454393a5437f26bd2a6be8",
       "version_major": 2,
       "version_minor": 0
      },
      "text/plain": [
       "model.safetensors:   0%|          | 0.00/440M [00:00<?, ?B/s]"
      ]
     },
     "metadata": {},
     "output_type": "display_data"
    },
    {
     "name": "stderr",
     "output_type": "stream",
     "text": [
      "Some weights of BertForTokenClassification were not initialized from the model checkpoint at bert-base-uncased and are newly initialized: ['classifier.bias', 'classifier.weight']\n",
      "You should probably TRAIN this model on a down-stream task to be able to use it for predictions and inference.\n"
     ]
    }
   ],
   "source": [
    "model = BertForTokenClassification.from_pretrained(\n",
    "    \"bert-base-uncased\",\n",
    "    num_labels=2,  # binary classification (keyphrase or not)\n",
    "    output_attentions=False,\n",
    "    output_hidden_states=False\n",
    ")\n",
    "\n",
    "\n",
    "# model = DebertaV2Model.from_pretrained(\"microsoft/deberta-v2-xlarge\",\n",
    "#    num_labels=2,  # binary classification (keyphrase or not)\n",
    "#     output_attentions=False,\n",
    "#     output_hidden_states=False)"
   ]
  },
  {
   "cell_type": "code",
   "execution_count": 28,
   "id": "25a2453c",
   "metadata": {
    "execution": {
     "iopub.execute_input": "2024-05-07T16:02:27.866163Z",
     "iopub.status.busy": "2024-05-07T16:02:27.865851Z",
     "iopub.status.idle": "2024-05-07T16:02:28.146422Z",
     "shell.execute_reply": "2024-05-07T16:02:28.145345Z"
    },
    "papermill": {
     "duration": 0.2985,
     "end_time": "2024-05-07T16:02:28.148469",
     "exception": false,
     "start_time": "2024-05-07T16:02:27.849969",
     "status": "completed"
    },
    "tags": []
   },
   "outputs": [
    {
     "name": "stderr",
     "output_type": "stream",
     "text": [
      "/opt/conda/lib/python3.10/site-packages/transformers/optimization.py:457: FutureWarning: This implementation of AdamW is deprecated and will be removed in a future version. Use the PyTorch implementation torch.optim.AdamW instead, or set `no_deprecation_warning=True` to disable this warning\n",
      "  warnings.warn(\n"
     ]
    }
   ],
   "source": [
    "device = torch.device(\"cuda\" if torch.cuda.is_available() else \"cpu\")\n",
    "model.to(device)\n",
    "optimizer = AdamW(model.parameters(), lr=5e-5)"
   ]
  },
  {
   "cell_type": "code",
   "execution_count": 29,
   "id": "585a175d",
   "metadata": {
    "execution": {
     "iopub.execute_input": "2024-05-07T16:02:28.176155Z",
     "iopub.status.busy": "2024-05-07T16:02:28.175860Z",
     "iopub.status.idle": "2024-05-07T16:02:28.179769Z",
     "shell.execute_reply": "2024-05-07T16:02:28.178908Z"
    },
    "papermill": {
     "duration": 0.019825,
     "end_time": "2024-05-07T16:02:28.181621",
     "exception": false,
     "start_time": "2024-05-07T16:02:28.161796",
     "status": "completed"
    },
    "tags": []
   },
   "outputs": [],
   "source": [
    "from transformers.modeling_outputs import TokenClassifierOutput"
   ]
  },
  {
   "cell_type": "code",
   "execution_count": 30,
   "id": "6d5894a9",
   "metadata": {
    "execution": {
     "iopub.execute_input": "2024-05-07T16:02:28.208494Z",
     "iopub.status.busy": "2024-05-07T16:02:28.208241Z",
     "iopub.status.idle": "2024-05-07T16:02:28.211932Z",
     "shell.execute_reply": "2024-05-07T16:02:28.211113Z"
    },
    "papermill": {
     "duration": 0.019307,
     "end_time": "2024-05-07T16:02:28.213801",
     "exception": false,
     "start_time": "2024-05-07T16:02:28.194494",
     "status": "completed"
    },
    "tags": []
   },
   "outputs": [],
   "source": [
    "# decoded_sentence = tokenizer.convert_tokens_to_string(pred_phrase) "
   ]
  },
  {
   "cell_type": "code",
   "execution_count": 31,
   "id": "e2b68c1f",
   "metadata": {
    "execution": {
     "iopub.execute_input": "2024-05-07T16:02:28.241061Z",
     "iopub.status.busy": "2024-05-07T16:02:28.240819Z",
     "iopub.status.idle": "2024-05-07T16:02:28.254527Z",
     "shell.execute_reply": "2024-05-07T16:02:28.253702Z"
    },
    "papermill": {
     "duration": 0.029478,
     "end_time": "2024-05-07T16:02:28.256432",
     "exception": false,
     "start_time": "2024-05-07T16:02:28.226954",
     "status": "completed"
    },
    "tags": []
   },
   "outputs": [],
   "source": [
    "def return_keyphrase(sentence , logits_list , original_sequence):\n",
    "    \n",
    "    predited_sequence = []\n",
    "    batch_size = len(logits_list)\n",
    "    \n",
    "    for b in range(batch_size):\n",
    "        \n",
    "        batch_res = []\n",
    "        logits_element = logits_list[b]\n",
    "        \n",
    "        for logit in logits_element:\n",
    "        \n",
    "            zero_class_logit = logit[0]\n",
    "            one_class_logit = logit[1]\n",
    "\n",
    "            if zero_class_logit > one_class_logit:\n",
    "                batch_res.append(0)\n",
    "            else:\n",
    "                batch_res.append(1)\n",
    "                \n",
    "        predited_sequence.append(batch_res)\n",
    "    \n",
    "    predicted_keyphrases = []\n",
    "    \n",
    "    for b in range(batch_size):\n",
    "        \n",
    "        pred_seq = predited_sequence[b]\n",
    "        sent = sentence[b]        \n",
    "        sent_len = len(sent)\n",
    "        \n",
    "        pred_phrase = []        \n",
    "        list_of_pred_phrase = []\n",
    "        \n",
    "        for index in range(sent_len):\n",
    "            \n",
    "            logit = pred_seq[index]\n",
    "            word_index = sent[index]\n",
    "            word = id_to_token[word_index]\n",
    "            \n",
    "            if logit == 0:\n",
    "                \n",
    "                if len(pred_phrase) < 1:\n",
    "                    continue\n",
    "                \n",
    "                decoded_sentence = tokenizer.convert_tokens_to_string(pred_phrase)       \n",
    "                list_of_pred_phrase.append(decoded_sentence)\n",
    "                \n",
    "                pred_phrase = []\n",
    "            \n",
    "            else:\n",
    "                pred_phrase.append(word)\n",
    "            \n",
    "        if len(pred_phrase) > 0:\n",
    "            decoded_sentence = tokenizer.convert_tokens_to_string(pred_phrase)       \n",
    "            list_of_pred_phrase.append(decoded_sentence)\n",
    "            \n",
    "        predicted_keyphrases.append(list_of_pred_phrase)  \n",
    "        \n",
    "        \n",
    "    original_keyphrases = []\n",
    "    \n",
    "    for b in range(batch_size):\n",
    "        \n",
    "        original_seq = original_sequence[b]\n",
    "        sent = sentence[b]        \n",
    "        sent_len = len(sent)\n",
    "        \n",
    "        original_phrase = []        \n",
    "        list_of_original_phrase = []\n",
    "        \n",
    "        for index in range(sent_len):\n",
    "            \n",
    "            logit = original_seq[index]\n",
    "            word_index = sent[index]\n",
    "            word = id_to_token[word_index]\n",
    "            \n",
    "            if logit == 0:\n",
    "                \n",
    "                if len(original_phrase) < 1:\n",
    "                    continue\n",
    "                \n",
    "                decoded_sentence = tokenizer.convert_tokens_to_string(original_phrase)       \n",
    "                list_of_original_phrase.append(decoded_sentence)\n",
    "                \n",
    "                original_phrase = []\n",
    "            \n",
    "            else:\n",
    "                original_phrase.append(word)\n",
    "            \n",
    "        if len(original_phrase) > 0:\n",
    "            decoded_sentence = tokenizer.convert_tokens_to_string(original_phrase)       \n",
    "            list_of_original_phrase.append(decoded_sentence)\n",
    "            \n",
    "        original_keyphrases.append(list_of_original_phrase)\n",
    "    \n",
    "    return predicted_keyphrases , original_keyphrases\n",
    "    \n",
    "# # Get word from token ID\n",
    "# word = id_to_token[1996]\n",
    "# temp = []\n",
    "\n",
    "# for t in input_ids[0]:\n",
    "#     temp.append(id_to_token[t.item()])"
   ]
  },
  {
   "cell_type": "code",
   "execution_count": 32,
   "id": "3d68d512",
   "metadata": {
    "execution": {
     "iopub.execute_input": "2024-05-07T16:02:28.283760Z",
     "iopub.status.busy": "2024-05-07T16:02:28.283416Z",
     "iopub.status.idle": "2024-05-07T16:02:28.287352Z",
     "shell.execute_reply": "2024-05-07T16:02:28.286544Z"
    },
    "papermill": {
     "duration": 0.02005,
     "end_time": "2024-05-07T16:02:28.289639",
     "exception": false,
     "start_time": "2024-05-07T16:02:28.269589",
     "status": "completed"
    },
    "tags": []
   },
   "outputs": [],
   "source": [
    "from sklearn.metrics import precision_score, recall_score, f1_score"
   ]
  },
  {
   "cell_type": "code",
   "execution_count": 33,
   "id": "81b5a278",
   "metadata": {
    "execution": {
     "iopub.execute_input": "2024-05-07T16:02:28.318153Z",
     "iopub.status.busy": "2024-05-07T16:02:28.317376Z",
     "iopub.status.idle": "2024-05-07T16:02:28.321827Z",
     "shell.execute_reply": "2024-05-07T16:02:28.320936Z"
    },
    "papermill": {
     "duration": 0.020741,
     "end_time": "2024-05-07T16:02:28.323785",
     "exception": false,
     "start_time": "2024-05-07T16:02:28.303044",
     "status": "completed"
    },
    "tags": []
   },
   "outputs": [],
   "source": [
    "epochs = 50\n",
    "best_f1_score  = 0.0\n",
    "best_recall = 0.0\n",
    "best_precision = 0.0"
   ]
  },
  {
   "cell_type": "code",
   "execution_count": 34,
   "id": "53a90650",
   "metadata": {
    "execution": {
     "iopub.execute_input": "2024-05-07T16:02:28.352861Z",
     "iopub.status.busy": "2024-05-07T16:02:28.352008Z",
     "iopub.status.idle": "2024-05-07T16:17:02.959226Z",
     "shell.execute_reply": "2024-05-07T16:17:02.957898Z"
    },
    "papermill": {
     "duration": 874.624332,
     "end_time": "2024-05-07T16:17:02.961481",
     "exception": false,
     "start_time": "2024-05-07T16:02:28.337149",
     "status": "completed"
    },
    "tags": []
   },
   "outputs": [
    {
     "name": "stderr",
     "output_type": "stream",
     "text": [
      "Epoch 1/50: 100%|██████████| 22/22 [00:16<00:00,  1.30it/s]\n"
     ]
    },
    {
     "name": "stdout",
     "output_type": "stream",
     "text": [
      "Average training loss: 0.3552\n"
     ]
    },
    {
     "name": "stderr",
     "output_type": "stream",
     "text": [
      "Validation: 100%|██████████| 4/4 [00:00<00:00,  4.44it/s]\n"
     ]
    },
    {
     "name": "stdout",
     "output_type": "stream",
     "text": [
      "Average validation loss: 0.1762\n",
      "Validation Precision : 0.3605\n",
      "Validation recall : 0.5807\n",
      "Validation f1_score : 0.4374\n",
      "================================================================================\n"
     ]
    },
    {
     "name": "stderr",
     "output_type": "stream",
     "text": [
      "Epoch 2/50: 100%|██████████| 22/22 [00:16<00:00,  1.35it/s]\n"
     ]
    },
    {
     "name": "stdout",
     "output_type": "stream",
     "text": [
      "Average training loss: 0.1928\n"
     ]
    },
    {
     "name": "stderr",
     "output_type": "stream",
     "text": [
      "Validation: 100%|██████████| 4/4 [00:01<00:00,  3.71it/s]\n"
     ]
    },
    {
     "name": "stdout",
     "output_type": "stream",
     "text": [
      "Average validation loss: 0.1661\n",
      "Validation Precision : 0.4289\n",
      "Validation recall : 0.5877\n",
      "Validation f1_score : 0.4861\n",
      "================================================================================\n"
     ]
    },
    {
     "name": "stderr",
     "output_type": "stream",
     "text": [
      "Epoch 3/50: 100%|██████████| 22/22 [00:16<00:00,  1.35it/s]\n"
     ]
    },
    {
     "name": "stdout",
     "output_type": "stream",
     "text": [
      "Average training loss: 0.1637\n"
     ]
    },
    {
     "name": "stderr",
     "output_type": "stream",
     "text": [
      "Validation: 100%|██████████| 4/4 [00:00<00:00,  4.50it/s]\n"
     ]
    },
    {
     "name": "stdout",
     "output_type": "stream",
     "text": [
      "Average validation loss: 0.1501\n",
      "Validation Precision : 0.4317\n",
      "Validation recall : 0.6149\n",
      "Validation f1_score : 0.4979\n",
      "================================================================================\n"
     ]
    },
    {
     "name": "stderr",
     "output_type": "stream",
     "text": [
      "Epoch 4/50: 100%|██████████| 22/22 [00:16<00:00,  1.35it/s]\n"
     ]
    },
    {
     "name": "stdout",
     "output_type": "stream",
     "text": [
      "Average training loss: 0.1424\n"
     ]
    },
    {
     "name": "stderr",
     "output_type": "stream",
     "text": [
      "Validation: 100%|██████████| 4/4 [00:00<00:00,  4.48it/s]\n"
     ]
    },
    {
     "name": "stdout",
     "output_type": "stream",
     "text": [
      "Average validation loss: 0.1443\n",
      "Validation Precision : 0.4495\n",
      "Validation recall : 0.6051\n",
      "Validation f1_score : 0.5078\n",
      "================================================================================\n"
     ]
    },
    {
     "name": "stderr",
     "output_type": "stream",
     "text": [
      "Epoch 5/50: 100%|██████████| 22/22 [00:16<00:00,  1.35it/s]\n"
     ]
    },
    {
     "name": "stdout",
     "output_type": "stream",
     "text": [
      "Average training loss: 0.1186\n"
     ]
    },
    {
     "name": "stderr",
     "output_type": "stream",
     "text": [
      "Validation: 100%|██████████| 4/4 [00:00<00:00,  4.46it/s]\n"
     ]
    },
    {
     "name": "stdout",
     "output_type": "stream",
     "text": [
      "Average validation loss: 0.1455\n",
      "Validation Precision : 0.4511\n",
      "Validation recall : 0.5844\n",
      "Validation f1_score : 0.5021\n",
      "================================================================================\n"
     ]
    },
    {
     "name": "stderr",
     "output_type": "stream",
     "text": [
      "Epoch 6/50: 100%|██████████| 22/22 [00:16<00:00,  1.35it/s]\n"
     ]
    },
    {
     "name": "stdout",
     "output_type": "stream",
     "text": [
      "Average training loss: 0.0993\n"
     ]
    },
    {
     "name": "stderr",
     "output_type": "stream",
     "text": [
      "Validation: 100%|██████████| 4/4 [00:00<00:00,  4.46it/s]\n"
     ]
    },
    {
     "name": "stdout",
     "output_type": "stream",
     "text": [
      "Average validation loss: 0.1829\n",
      "Validation Precision : 0.4357\n",
      "Validation recall : 0.5986\n",
      "Validation f1_score : 0.4952\n",
      "================================================================================\n"
     ]
    },
    {
     "name": "stderr",
     "output_type": "stream",
     "text": [
      "Epoch 7/50: 100%|██████████| 22/22 [00:16<00:00,  1.35it/s]\n"
     ]
    },
    {
     "name": "stdout",
     "output_type": "stream",
     "text": [
      "Average training loss: 0.0776\n"
     ]
    },
    {
     "name": "stderr",
     "output_type": "stream",
     "text": [
      "Validation: 100%|██████████| 4/4 [00:00<00:00,  4.46it/s]\n"
     ]
    },
    {
     "name": "stdout",
     "output_type": "stream",
     "text": [
      "Average validation loss: 0.1721\n",
      "Validation Precision : 0.4671\n",
      "Validation recall : 0.6044\n",
      "Validation f1_score : 0.5188\n",
      "================================================================================\n"
     ]
    },
    {
     "name": "stderr",
     "output_type": "stream",
     "text": [
      "Epoch 8/50: 100%|██████████| 22/22 [00:16<00:00,  1.34it/s]\n"
     ]
    },
    {
     "name": "stdout",
     "output_type": "stream",
     "text": [
      "Average training loss: 0.0613\n"
     ]
    },
    {
     "name": "stderr",
     "output_type": "stream",
     "text": [
      "Validation: 100%|██████████| 4/4 [00:01<00:00,  3.70it/s]\n"
     ]
    },
    {
     "name": "stdout",
     "output_type": "stream",
     "text": [
      "Average validation loss: 0.1913\n",
      "Validation Precision : 0.4619\n",
      "Validation recall : 0.5989\n",
      "Validation f1_score : 0.5124\n",
      "================================================================================\n"
     ]
    },
    {
     "name": "stderr",
     "output_type": "stream",
     "text": [
      "Epoch 9/50: 100%|██████████| 22/22 [00:16<00:00,  1.35it/s]\n"
     ]
    },
    {
     "name": "stdout",
     "output_type": "stream",
     "text": [
      "Average training loss: 0.0477\n"
     ]
    },
    {
     "name": "stderr",
     "output_type": "stream",
     "text": [
      "Validation: 100%|██████████| 4/4 [00:00<00:00,  4.47it/s]\n"
     ]
    },
    {
     "name": "stdout",
     "output_type": "stream",
     "text": [
      "Average validation loss: 0.1951\n",
      "Validation Precision : 0.4818\n",
      "Validation recall : 0.6016\n",
      "Validation f1_score : 0.5263\n",
      "================================================================================\n"
     ]
    },
    {
     "name": "stderr",
     "output_type": "stream",
     "text": [
      "Epoch 10/50: 100%|██████████| 22/22 [00:16<00:00,  1.35it/s]\n"
     ]
    },
    {
     "name": "stdout",
     "output_type": "stream",
     "text": [
      "Average training loss: 0.0376\n"
     ]
    },
    {
     "name": "stderr",
     "output_type": "stream",
     "text": [
      "Validation: 100%|██████████| 4/4 [00:00<00:00,  4.45it/s]\n"
     ]
    },
    {
     "name": "stdout",
     "output_type": "stream",
     "text": [
      "Average validation loss: 0.2157\n",
      "Validation Precision : 0.4716\n",
      "Validation recall : 0.6103\n",
      "Validation f1_score : 0.5224\n",
      "================================================================================\n"
     ]
    },
    {
     "name": "stderr",
     "output_type": "stream",
     "text": [
      "Epoch 11/50: 100%|██████████| 22/22 [00:16<00:00,  1.34it/s]\n"
     ]
    },
    {
     "name": "stdout",
     "output_type": "stream",
     "text": [
      "Average training loss: 0.0298\n"
     ]
    },
    {
     "name": "stderr",
     "output_type": "stream",
     "text": [
      "Validation: 100%|██████████| 4/4 [00:00<00:00,  4.47it/s]\n"
     ]
    },
    {
     "name": "stdout",
     "output_type": "stream",
     "text": [
      "Average validation loss: 0.2448\n",
      "Validation Precision : 0.4775\n",
      "Validation recall : 0.5984\n",
      "Validation f1_score : 0.5230\n",
      "================================================================================\n"
     ]
    },
    {
     "name": "stderr",
     "output_type": "stream",
     "text": [
      "Epoch 12/50: 100%|██████████| 22/22 [00:16<00:00,  1.35it/s]\n"
     ]
    },
    {
     "name": "stdout",
     "output_type": "stream",
     "text": [
      "Average training loss: 0.0234\n"
     ]
    },
    {
     "name": "stderr",
     "output_type": "stream",
     "text": [
      "Validation: 100%|██████████| 4/4 [00:00<00:00,  4.45it/s]\n"
     ]
    },
    {
     "name": "stdout",
     "output_type": "stream",
     "text": [
      "Average validation loss: 0.2672\n",
      "Validation Precision : 0.4642\n",
      "Validation recall : 0.6151\n",
      "Validation f1_score : 0.5194\n",
      "================================================================================\n"
     ]
    },
    {
     "name": "stderr",
     "output_type": "stream",
     "text": [
      "Epoch 13/50: 100%|██████████| 22/22 [00:16<00:00,  1.35it/s]\n"
     ]
    },
    {
     "name": "stdout",
     "output_type": "stream",
     "text": [
      "Average training loss: 0.0199\n"
     ]
    },
    {
     "name": "stderr",
     "output_type": "stream",
     "text": [
      "Validation: 100%|██████████| 4/4 [00:00<00:00,  4.48it/s]\n"
     ]
    },
    {
     "name": "stdout",
     "output_type": "stream",
     "text": [
      "Average validation loss: 0.2729\n",
      "Validation Precision : 0.4689\n",
      "Validation recall : 0.6088\n",
      "Validation f1_score : 0.5195\n",
      "================================================================================\n"
     ]
    },
    {
     "name": "stderr",
     "output_type": "stream",
     "text": [
      "Epoch 14/50: 100%|██████████| 22/22 [00:16<00:00,  1.35it/s]\n"
     ]
    },
    {
     "name": "stdout",
     "output_type": "stream",
     "text": [
      "Average training loss: 0.0155\n"
     ]
    },
    {
     "name": "stderr",
     "output_type": "stream",
     "text": [
      "Validation: 100%|██████████| 4/4 [00:00<00:00,  4.47it/s]\n"
     ]
    },
    {
     "name": "stdout",
     "output_type": "stream",
     "text": [
      "Average validation loss: 0.3161\n",
      "Validation Precision : 0.4605\n",
      "Validation recall : 0.5993\n",
      "Validation f1_score : 0.5106\n",
      "================================================================================\n"
     ]
    },
    {
     "name": "stderr",
     "output_type": "stream",
     "text": [
      "Epoch 15/50: 100%|██████████| 22/22 [00:16<00:00,  1.35it/s]\n"
     ]
    },
    {
     "name": "stdout",
     "output_type": "stream",
     "text": [
      "Average training loss: 0.0125\n"
     ]
    },
    {
     "name": "stderr",
     "output_type": "stream",
     "text": [
      "Validation: 100%|██████████| 4/4 [00:00<00:00,  4.47it/s]\n"
     ]
    },
    {
     "name": "stdout",
     "output_type": "stream",
     "text": [
      "Average validation loss: 0.3106\n",
      "Validation Precision : 0.4668\n",
      "Validation recall : 0.6130\n",
      "Validation f1_score : 0.5191\n",
      "================================================================================\n"
     ]
    },
    {
     "name": "stderr",
     "output_type": "stream",
     "text": [
      "Epoch 16/50: 100%|██████████| 22/22 [00:16<00:00,  1.35it/s]\n"
     ]
    },
    {
     "name": "stdout",
     "output_type": "stream",
     "text": [
      "Average training loss: 0.0109\n"
     ]
    },
    {
     "name": "stderr",
     "output_type": "stream",
     "text": [
      "Validation: 100%|██████████| 4/4 [00:00<00:00,  4.47it/s]\n"
     ]
    },
    {
     "name": "stdout",
     "output_type": "stream",
     "text": [
      "Average validation loss: 0.3396\n",
      "Validation Precision : 0.4568\n",
      "Validation recall : 0.6056\n",
      "Validation f1_score : 0.5099\n",
      "================================================================================\n"
     ]
    },
    {
     "name": "stderr",
     "output_type": "stream",
     "text": [
      "Epoch 17/50: 100%|██████████| 22/22 [00:16<00:00,  1.35it/s]\n"
     ]
    },
    {
     "name": "stdout",
     "output_type": "stream",
     "text": [
      "Average training loss: 0.0099\n"
     ]
    },
    {
     "name": "stderr",
     "output_type": "stream",
     "text": [
      "Validation: 100%|██████████| 4/4 [00:00<00:00,  4.46it/s]\n"
     ]
    },
    {
     "name": "stdout",
     "output_type": "stream",
     "text": [
      "Average validation loss: 0.3423\n",
      "Validation Precision : 0.4705\n",
      "Validation recall : 0.6116\n",
      "Validation f1_score : 0.5219\n",
      "================================================================================\n"
     ]
    },
    {
     "name": "stderr",
     "output_type": "stream",
     "text": [
      "Epoch 18/50: 100%|██████████| 22/22 [00:16<00:00,  1.34it/s]\n"
     ]
    },
    {
     "name": "stdout",
     "output_type": "stream",
     "text": [
      "Average training loss: 0.0089\n"
     ]
    },
    {
     "name": "stderr",
     "output_type": "stream",
     "text": [
      "Validation: 100%|██████████| 4/4 [00:01<00:00,  3.72it/s]\n"
     ]
    },
    {
     "name": "stdout",
     "output_type": "stream",
     "text": [
      "Average validation loss: 0.3959\n",
      "Validation Precision : 0.4758\n",
      "Validation recall : 0.6348\n",
      "Validation f1_score : 0.5339\n",
      "================================================================================\n"
     ]
    },
    {
     "name": "stderr",
     "output_type": "stream",
     "text": [
      "Epoch 19/50: 100%|██████████| 22/22 [00:16<00:00,  1.35it/s]\n"
     ]
    },
    {
     "name": "stdout",
     "output_type": "stream",
     "text": [
      "Average training loss: 0.0074\n"
     ]
    },
    {
     "name": "stderr",
     "output_type": "stream",
     "text": [
      "Validation: 100%|██████████| 4/4 [00:00<00:00,  4.47it/s]\n"
     ]
    },
    {
     "name": "stdout",
     "output_type": "stream",
     "text": [
      "Average validation loss: 0.3290\n",
      "Validation Precision : 0.4900\n",
      "Validation recall : 0.6039\n",
      "Validation f1_score : 0.5317\n",
      "================================================================================\n"
     ]
    },
    {
     "name": "stderr",
     "output_type": "stream",
     "text": [
      "Epoch 20/50: 100%|██████████| 22/22 [00:16<00:00,  1.34it/s]\n"
     ]
    },
    {
     "name": "stdout",
     "output_type": "stream",
     "text": [
      "Average training loss: 0.0073\n"
     ]
    },
    {
     "name": "stderr",
     "output_type": "stream",
     "text": [
      "Validation: 100%|██████████| 4/4 [00:00<00:00,  4.47it/s]\n"
     ]
    },
    {
     "name": "stdout",
     "output_type": "stream",
     "text": [
      "Average validation loss: 0.3856\n",
      "Validation Precision : 0.4738\n",
      "Validation recall : 0.6080\n",
      "Validation f1_score : 0.5221\n",
      "================================================================================\n"
     ]
    },
    {
     "name": "stderr",
     "output_type": "stream",
     "text": [
      "Epoch 21/50: 100%|██████████| 22/22 [00:16<00:00,  1.35it/s]\n"
     ]
    },
    {
     "name": "stdout",
     "output_type": "stream",
     "text": [
      "Average training loss: 0.0070\n"
     ]
    },
    {
     "name": "stderr",
     "output_type": "stream",
     "text": [
      "Validation: 100%|██████████| 4/4 [00:00<00:00,  4.45it/s]\n"
     ]
    },
    {
     "name": "stdout",
     "output_type": "stream",
     "text": [
      "Average validation loss: 0.3576\n",
      "Validation Precision : 0.4804\n",
      "Validation recall : 0.6255\n",
      "Validation f1_score : 0.5334\n",
      "================================================================================\n"
     ]
    },
    {
     "name": "stderr",
     "output_type": "stream",
     "text": [
      "Epoch 22/50: 100%|██████████| 22/22 [00:16<00:00,  1.35it/s]\n"
     ]
    },
    {
     "name": "stdout",
     "output_type": "stream",
     "text": [
      "Average training loss: 0.0060\n"
     ]
    },
    {
     "name": "stderr",
     "output_type": "stream",
     "text": [
      "Validation: 100%|██████████| 4/4 [00:00<00:00,  4.47it/s]\n"
     ]
    },
    {
     "name": "stdout",
     "output_type": "stream",
     "text": [
      "Average validation loss: 0.3327\n",
      "Validation Precision : 0.4921\n",
      "Validation recall : 0.6279\n",
      "Validation f1_score : 0.5417\n",
      "================================================================================\n"
     ]
    },
    {
     "name": "stderr",
     "output_type": "stream",
     "text": [
      "Epoch 23/50: 100%|██████████| 22/22 [00:16<00:00,  1.34it/s]\n"
     ]
    },
    {
     "name": "stdout",
     "output_type": "stream",
     "text": [
      "Average training loss: 0.0048\n"
     ]
    },
    {
     "name": "stderr",
     "output_type": "stream",
     "text": [
      "Validation: 100%|██████████| 4/4 [00:00<00:00,  4.45it/s]\n"
     ]
    },
    {
     "name": "stdout",
     "output_type": "stream",
     "text": [
      "Average validation loss: 0.4027\n",
      "Validation Precision : 0.4920\n",
      "Validation recall : 0.6290\n",
      "Validation f1_score : 0.5423\n",
      "================================================================================\n"
     ]
    },
    {
     "name": "stderr",
     "output_type": "stream",
     "text": [
      "Epoch 24/50: 100%|██████████| 22/22 [00:16<00:00,  1.35it/s]\n"
     ]
    },
    {
     "name": "stdout",
     "output_type": "stream",
     "text": [
      "Average training loss: 0.0050\n"
     ]
    },
    {
     "name": "stderr",
     "output_type": "stream",
     "text": [
      "Validation: 100%|██████████| 4/4 [00:00<00:00,  4.47it/s]\n"
     ]
    },
    {
     "name": "stdout",
     "output_type": "stream",
     "text": [
      "Average validation loss: 0.3828\n",
      "Validation Precision : 0.4892\n",
      "Validation recall : 0.6341\n",
      "Validation f1_score : 0.5414\n",
      "================================================================================\n"
     ]
    },
    {
     "name": "stderr",
     "output_type": "stream",
     "text": [
      "Epoch 25/50: 100%|██████████| 22/22 [00:16<00:00,  1.35it/s]\n"
     ]
    },
    {
     "name": "stdout",
     "output_type": "stream",
     "text": [
      "Average training loss: 0.0041\n"
     ]
    },
    {
     "name": "stderr",
     "output_type": "stream",
     "text": [
      "Validation: 100%|██████████| 4/4 [00:00<00:00,  4.46it/s]\n"
     ]
    },
    {
     "name": "stdout",
     "output_type": "stream",
     "text": [
      "Average validation loss: 0.3953\n",
      "Validation Precision : 0.4662\n",
      "Validation recall : 0.5921\n",
      "Validation f1_score : 0.5116\n",
      "================================================================================\n"
     ]
    },
    {
     "name": "stderr",
     "output_type": "stream",
     "text": [
      "Epoch 26/50: 100%|██████████| 22/22 [00:16<00:00,  1.35it/s]\n"
     ]
    },
    {
     "name": "stdout",
     "output_type": "stream",
     "text": [
      "Average training loss: 0.0042\n"
     ]
    },
    {
     "name": "stderr",
     "output_type": "stream",
     "text": [
      "Validation: 100%|██████████| 4/4 [00:00<00:00,  4.45it/s]\n"
     ]
    },
    {
     "name": "stdout",
     "output_type": "stream",
     "text": [
      "Average validation loss: 0.3757\n",
      "Validation Precision : 0.4723\n",
      "Validation recall : 0.6194\n",
      "Validation f1_score : 0.5250\n",
      "================================================================================\n"
     ]
    },
    {
     "name": "stderr",
     "output_type": "stream",
     "text": [
      "Epoch 27/50: 100%|██████████| 22/22 [00:16<00:00,  1.34it/s]\n"
     ]
    },
    {
     "name": "stdout",
     "output_type": "stream",
     "text": [
      "Average training loss: 0.0057\n"
     ]
    },
    {
     "name": "stderr",
     "output_type": "stream",
     "text": [
      "Validation: 100%|██████████| 4/4 [00:00<00:00,  4.46it/s]\n"
     ]
    },
    {
     "name": "stdout",
     "output_type": "stream",
     "text": [
      "Average validation loss: 0.4223\n",
      "Validation Precision : 0.4758\n",
      "Validation recall : 0.5932\n",
      "Validation f1_score : 0.5193\n",
      "================================================================================\n"
     ]
    },
    {
     "name": "stderr",
     "output_type": "stream",
     "text": [
      "Epoch 28/50: 100%|██████████| 22/22 [00:16<00:00,  1.35it/s]\n"
     ]
    },
    {
     "name": "stdout",
     "output_type": "stream",
     "text": [
      "Average training loss: 0.0068\n"
     ]
    },
    {
     "name": "stderr",
     "output_type": "stream",
     "text": [
      "Validation: 100%|██████████| 4/4 [00:00<00:00,  4.46it/s]\n"
     ]
    },
    {
     "name": "stdout",
     "output_type": "stream",
     "text": [
      "Average validation loss: 0.3433\n",
      "Validation Precision : 0.4665\n",
      "Validation recall : 0.5633\n",
      "Validation f1_score : 0.5014\n",
      "================================================================================\n"
     ]
    },
    {
     "name": "stderr",
     "output_type": "stream",
     "text": [
      "Epoch 29/50: 100%|██████████| 22/22 [00:16<00:00,  1.35it/s]\n"
     ]
    },
    {
     "name": "stdout",
     "output_type": "stream",
     "text": [
      "Average training loss: 0.0077\n"
     ]
    },
    {
     "name": "stderr",
     "output_type": "stream",
     "text": [
      "Validation: 100%|██████████| 4/4 [00:01<00:00,  3.69it/s]\n"
     ]
    },
    {
     "name": "stdout",
     "output_type": "stream",
     "text": [
      "Average validation loss: 0.3851\n",
      "Validation Precision : 0.4810\n",
      "Validation recall : 0.6140\n",
      "Validation f1_score : 0.5295\n",
      "================================================================================\n"
     ]
    },
    {
     "name": "stderr",
     "output_type": "stream",
     "text": [
      "Epoch 30/50: 100%|██████████| 22/22 [00:16<00:00,  1.35it/s]\n"
     ]
    },
    {
     "name": "stdout",
     "output_type": "stream",
     "text": [
      "Average training loss: 0.0042\n"
     ]
    },
    {
     "name": "stderr",
     "output_type": "stream",
     "text": [
      "Validation: 100%|██████████| 4/4 [00:00<00:00,  4.47it/s]\n"
     ]
    },
    {
     "name": "stdout",
     "output_type": "stream",
     "text": [
      "Average validation loss: 0.3875\n",
      "Validation Precision : 0.4917\n",
      "Validation recall : 0.6248\n",
      "Validation f1_score : 0.5408\n",
      "================================================================================\n"
     ]
    },
    {
     "name": "stderr",
     "output_type": "stream",
     "text": [
      "Epoch 31/50: 100%|██████████| 22/22 [00:16<00:00,  1.35it/s]\n"
     ]
    },
    {
     "name": "stdout",
     "output_type": "stream",
     "text": [
      "Average training loss: 0.0033\n"
     ]
    },
    {
     "name": "stderr",
     "output_type": "stream",
     "text": [
      "Validation: 100%|██████████| 4/4 [00:00<00:00,  4.47it/s]\n"
     ]
    },
    {
     "name": "stdout",
     "output_type": "stream",
     "text": [
      "Average validation loss: 0.3773\n",
      "Validation Precision : 0.4959\n",
      "Validation recall : 0.6167\n",
      "Validation f1_score : 0.5405\n",
      "================================================================================\n"
     ]
    },
    {
     "name": "stderr",
     "output_type": "stream",
     "text": [
      "Epoch 32/50: 100%|██████████| 22/22 [00:16<00:00,  1.35it/s]\n"
     ]
    },
    {
     "name": "stdout",
     "output_type": "stream",
     "text": [
      "Average training loss: 0.0029\n"
     ]
    },
    {
     "name": "stderr",
     "output_type": "stream",
     "text": [
      "Validation: 100%|██████████| 4/4 [00:00<00:00,  4.46it/s]\n"
     ]
    },
    {
     "name": "stdout",
     "output_type": "stream",
     "text": [
      "Average validation loss: 0.3558\n",
      "Validation Precision : 0.5089\n",
      "Validation recall : 0.6148\n",
      "Validation f1_score : 0.5495\n",
      "================================================================================\n"
     ]
    },
    {
     "name": "stderr",
     "output_type": "stream",
     "text": [
      "Epoch 33/50: 100%|██████████| 22/22 [00:16<00:00,  1.34it/s]\n"
     ]
    },
    {
     "name": "stdout",
     "output_type": "stream",
     "text": [
      "Average training loss: 0.0029\n"
     ]
    },
    {
     "name": "stderr",
     "output_type": "stream",
     "text": [
      "Validation: 100%|██████████| 4/4 [00:00<00:00,  4.44it/s]\n"
     ]
    },
    {
     "name": "stdout",
     "output_type": "stream",
     "text": [
      "Average validation loss: 0.4682\n",
      "Validation Precision : 0.4901\n",
      "Validation recall : 0.6014\n",
      "Validation f1_score : 0.5311\n",
      "================================================================================\n"
     ]
    },
    {
     "name": "stderr",
     "output_type": "stream",
     "text": [
      "Epoch 34/50: 100%|██████████| 22/22 [00:16<00:00,  1.34it/s]\n"
     ]
    },
    {
     "name": "stdout",
     "output_type": "stream",
     "text": [
      "Average training loss: 0.0036\n"
     ]
    },
    {
     "name": "stderr",
     "output_type": "stream",
     "text": [
      "Validation: 100%|██████████| 4/4 [00:00<00:00,  4.46it/s]\n"
     ]
    },
    {
     "name": "stdout",
     "output_type": "stream",
     "text": [
      "Average validation loss: 0.3938\n",
      "Validation Precision : 0.4956\n",
      "Validation recall : 0.6155\n",
      "Validation f1_score : 0.5415\n",
      "================================================================================\n"
     ]
    },
    {
     "name": "stderr",
     "output_type": "stream",
     "text": [
      "Epoch 35/50: 100%|██████████| 22/22 [00:16<00:00,  1.35it/s]\n"
     ]
    },
    {
     "name": "stdout",
     "output_type": "stream",
     "text": [
      "Average training loss: 0.0026\n"
     ]
    },
    {
     "name": "stderr",
     "output_type": "stream",
     "text": [
      "Validation: 100%|██████████| 4/4 [00:00<00:00,  4.47it/s]\n"
     ]
    },
    {
     "name": "stdout",
     "output_type": "stream",
     "text": [
      "Average validation loss: 0.3719\n",
      "Validation Precision : 0.4962\n",
      "Validation recall : 0.6091\n",
      "Validation f1_score : 0.5376\n",
      "================================================================================\n"
     ]
    },
    {
     "name": "stderr",
     "output_type": "stream",
     "text": [
      "Epoch 36/50: 100%|██████████| 22/22 [00:16<00:00,  1.35it/s]\n"
     ]
    },
    {
     "name": "stdout",
     "output_type": "stream",
     "text": [
      "Average training loss: 0.0020\n"
     ]
    },
    {
     "name": "stderr",
     "output_type": "stream",
     "text": [
      "Validation: 100%|██████████| 4/4 [00:00<00:00,  4.45it/s]\n"
     ]
    },
    {
     "name": "stdout",
     "output_type": "stream",
     "text": [
      "Average validation loss: 0.4597\n",
      "Validation Precision : 0.4940\n",
      "Validation recall : 0.6122\n",
      "Validation f1_score : 0.5379\n",
      "================================================================================\n"
     ]
    },
    {
     "name": "stderr",
     "output_type": "stream",
     "text": [
      "Epoch 37/50: 100%|██████████| 22/22 [00:16<00:00,  1.34it/s]\n"
     ]
    },
    {
     "name": "stdout",
     "output_type": "stream",
     "text": [
      "Average training loss: 0.0020\n"
     ]
    },
    {
     "name": "stderr",
     "output_type": "stream",
     "text": [
      "Validation: 100%|██████████| 4/4 [00:00<00:00,  4.47it/s]\n"
     ]
    },
    {
     "name": "stdout",
     "output_type": "stream",
     "text": [
      "Average validation loss: 0.4237\n",
      "Validation Precision : 0.4858\n",
      "Validation recall : 0.6173\n",
      "Validation f1_score : 0.5349\n",
      "================================================================================\n"
     ]
    },
    {
     "name": "stderr",
     "output_type": "stream",
     "text": [
      "Epoch 38/50: 100%|██████████| 22/22 [00:16<00:00,  1.35it/s]\n"
     ]
    },
    {
     "name": "stdout",
     "output_type": "stream",
     "text": [
      "Average training loss: 0.0027\n"
     ]
    },
    {
     "name": "stderr",
     "output_type": "stream",
     "text": [
      "Validation: 100%|██████████| 4/4 [00:00<00:00,  4.46it/s]\n"
     ]
    },
    {
     "name": "stdout",
     "output_type": "stream",
     "text": [
      "Average validation loss: 0.3547\n",
      "Validation Precision : 0.4913\n",
      "Validation recall : 0.6012\n",
      "Validation f1_score : 0.5319\n",
      "================================================================================\n"
     ]
    },
    {
     "name": "stderr",
     "output_type": "stream",
     "text": [
      "Epoch 39/50: 100%|██████████| 22/22 [00:16<00:00,  1.35it/s]\n"
     ]
    },
    {
     "name": "stdout",
     "output_type": "stream",
     "text": [
      "Average training loss: 0.0025\n"
     ]
    },
    {
     "name": "stderr",
     "output_type": "stream",
     "text": [
      "Validation: 100%|██████████| 4/4 [00:00<00:00,  4.46it/s]\n"
     ]
    },
    {
     "name": "stdout",
     "output_type": "stream",
     "text": [
      "Average validation loss: 0.3760\n",
      "Validation Precision : 0.4907\n",
      "Validation recall : 0.6198\n",
      "Validation f1_score : 0.5379\n",
      "================================================================================\n"
     ]
    },
    {
     "name": "stderr",
     "output_type": "stream",
     "text": [
      "Epoch 40/50: 100%|██████████| 22/22 [00:16<00:00,  1.34it/s]\n"
     ]
    },
    {
     "name": "stdout",
     "output_type": "stream",
     "text": [
      "Average training loss: 0.0028\n"
     ]
    },
    {
     "name": "stderr",
     "output_type": "stream",
     "text": [
      "Validation: 100%|██████████| 4/4 [00:00<00:00,  4.44it/s]\n"
     ]
    },
    {
     "name": "stdout",
     "output_type": "stream",
     "text": [
      "Average validation loss: 0.3684\n",
      "Validation Precision : 0.5079\n",
      "Validation recall : 0.6056\n",
      "Validation f1_score : 0.5446\n",
      "================================================================================\n"
     ]
    },
    {
     "name": "stderr",
     "output_type": "stream",
     "text": [
      "Epoch 41/50: 100%|██████████| 22/22 [00:16<00:00,  1.34it/s]\n"
     ]
    },
    {
     "name": "stdout",
     "output_type": "stream",
     "text": [
      "Average training loss: 0.0020\n"
     ]
    },
    {
     "name": "stderr",
     "output_type": "stream",
     "text": [
      "Validation: 100%|██████████| 4/4 [00:00<00:00,  4.46it/s]\n"
     ]
    },
    {
     "name": "stdout",
     "output_type": "stream",
     "text": [
      "Average validation loss: 0.4471\n",
      "Validation Precision : 0.5067\n",
      "Validation recall : 0.6184\n",
      "Validation f1_score : 0.5493\n",
      "================================================================================\n"
     ]
    },
    {
     "name": "stderr",
     "output_type": "stream",
     "text": [
      "Epoch 42/50: 100%|██████████| 22/22 [00:16<00:00,  1.35it/s]\n"
     ]
    },
    {
     "name": "stdout",
     "output_type": "stream",
     "text": [
      "Average training loss: 0.0018\n"
     ]
    },
    {
     "name": "stderr",
     "output_type": "stream",
     "text": [
      "Validation: 100%|██████████| 4/4 [00:01<00:00,  3.70it/s]\n"
     ]
    },
    {
     "name": "stdout",
     "output_type": "stream",
     "text": [
      "Average validation loss: 0.4378\n",
      "Validation Precision : 0.5089\n",
      "Validation recall : 0.6095\n",
      "Validation f1_score : 0.5475\n",
      "================================================================================\n"
     ]
    },
    {
     "name": "stderr",
     "output_type": "stream",
     "text": [
      "Epoch 43/50: 100%|██████████| 22/22 [00:16<00:00,  1.34it/s]\n"
     ]
    },
    {
     "name": "stdout",
     "output_type": "stream",
     "text": [
      "Average training loss: 0.0017\n"
     ]
    },
    {
     "name": "stderr",
     "output_type": "stream",
     "text": [
      "Validation: 100%|██████████| 4/4 [00:00<00:00,  4.47it/s]\n"
     ]
    },
    {
     "name": "stdout",
     "output_type": "stream",
     "text": [
      "Average validation loss: 0.4022\n",
      "Validation Precision : 0.4876\n",
      "Validation recall : 0.6233\n",
      "Validation f1_score : 0.5374\n",
      "================================================================================\n"
     ]
    },
    {
     "name": "stderr",
     "output_type": "stream",
     "text": [
      "Epoch 44/50: 100%|██████████| 22/22 [00:16<00:00,  1.34it/s]\n"
     ]
    },
    {
     "name": "stdout",
     "output_type": "stream",
     "text": [
      "Average training loss: 0.0019\n"
     ]
    },
    {
     "name": "stderr",
     "output_type": "stream",
     "text": [
      "Validation: 100%|██████████| 4/4 [00:00<00:00,  4.46it/s]\n"
     ]
    },
    {
     "name": "stdout",
     "output_type": "stream",
     "text": [
      "Average validation loss: 0.4051\n",
      "Validation Precision : 0.5095\n",
      "Validation recall : 0.6239\n",
      "Validation f1_score : 0.5518\n",
      "================================================================================\n"
     ]
    },
    {
     "name": "stderr",
     "output_type": "stream",
     "text": [
      "Epoch 45/50: 100%|██████████| 22/22 [00:16<00:00,  1.35it/s]\n"
     ]
    },
    {
     "name": "stdout",
     "output_type": "stream",
     "text": [
      "Average training loss: 0.0026\n"
     ]
    },
    {
     "name": "stderr",
     "output_type": "stream",
     "text": [
      "Validation: 100%|██████████| 4/4 [00:00<00:00,  4.46it/s]\n"
     ]
    },
    {
     "name": "stdout",
     "output_type": "stream",
     "text": [
      "Average validation loss: 0.4311\n",
      "Validation Precision : 0.4923\n",
      "Validation recall : 0.6422\n",
      "Validation f1_score : 0.5488\n",
      "================================================================================\n"
     ]
    },
    {
     "name": "stderr",
     "output_type": "stream",
     "text": [
      "Epoch 46/50: 100%|██████████| 22/22 [00:16<00:00,  1.34it/s]\n"
     ]
    },
    {
     "name": "stdout",
     "output_type": "stream",
     "text": [
      "Average training loss: 0.0029\n"
     ]
    },
    {
     "name": "stderr",
     "output_type": "stream",
     "text": [
      "Validation: 100%|██████████| 4/4 [00:00<00:00,  4.46it/s]\n"
     ]
    },
    {
     "name": "stdout",
     "output_type": "stream",
     "text": [
      "Average validation loss: 0.3251\n",
      "Validation Precision : 0.5348\n",
      "Validation recall : 0.6076\n",
      "Validation f1_score : 0.5614\n",
      "================================================================================\n"
     ]
    },
    {
     "name": "stderr",
     "output_type": "stream",
     "text": [
      "Epoch 47/50: 100%|██████████| 22/22 [00:16<00:00,  1.35it/s]\n"
     ]
    },
    {
     "name": "stdout",
     "output_type": "stream",
     "text": [
      "Average training loss: 0.0034\n"
     ]
    },
    {
     "name": "stderr",
     "output_type": "stream",
     "text": [
      "Validation: 100%|██████████| 4/4 [00:00<00:00,  4.46it/s]\n"
     ]
    },
    {
     "name": "stdout",
     "output_type": "stream",
     "text": [
      "Average validation loss: 0.4028\n",
      "Validation Precision : 0.5116\n",
      "Validation recall : 0.5940\n",
      "Validation f1_score : 0.5406\n",
      "================================================================================\n"
     ]
    },
    {
     "name": "stderr",
     "output_type": "stream",
     "text": [
      "Epoch 48/50: 100%|██████████| 22/22 [00:16<00:00,  1.35it/s]\n"
     ]
    },
    {
     "name": "stdout",
     "output_type": "stream",
     "text": [
      "Average training loss: 0.0029\n"
     ]
    },
    {
     "name": "stderr",
     "output_type": "stream",
     "text": [
      "Validation: 100%|██████████| 4/4 [00:00<00:00,  4.47it/s]\n"
     ]
    },
    {
     "name": "stdout",
     "output_type": "stream",
     "text": [
      "Average validation loss: 0.4001\n",
      "Validation Precision : 0.4959\n",
      "Validation recall : 0.6264\n",
      "Validation f1_score : 0.5437\n",
      "================================================================================\n"
     ]
    },
    {
     "name": "stderr",
     "output_type": "stream",
     "text": [
      "Epoch 49/50: 100%|██████████| 22/22 [00:16<00:00,  1.34it/s]\n"
     ]
    },
    {
     "name": "stdout",
     "output_type": "stream",
     "text": [
      "Average training loss: 0.0022\n"
     ]
    },
    {
     "name": "stderr",
     "output_type": "stream",
     "text": [
      "Validation: 100%|██████████| 4/4 [00:01<00:00,  3.67it/s]\n"
     ]
    },
    {
     "name": "stdout",
     "output_type": "stream",
     "text": [
      "Average validation loss: 0.3712\n",
      "Validation Precision : 0.5020\n",
      "Validation recall : 0.6068\n",
      "Validation f1_score : 0.5414\n",
      "================================================================================\n"
     ]
    },
    {
     "name": "stderr",
     "output_type": "stream",
     "text": [
      "Epoch 50/50: 100%|██████████| 22/22 [00:16<00:00,  1.34it/s]\n"
     ]
    },
    {
     "name": "stdout",
     "output_type": "stream",
     "text": [
      "Average training loss: 0.0018\n"
     ]
    },
    {
     "name": "stderr",
     "output_type": "stream",
     "text": [
      "Validation: 100%|██████████| 4/4 [00:00<00:00,  4.47it/s]"
     ]
    },
    {
     "name": "stdout",
     "output_type": "stream",
     "text": [
      "Average validation loss: 0.4100\n",
      "Validation Precision : 0.5103\n",
      "Validation recall : 0.6114\n",
      "Validation f1_score : 0.5469\n",
      "================================================================================\n"
     ]
    },
    {
     "name": "stderr",
     "output_type": "stream",
     "text": [
      "\n"
     ]
    }
   ],
   "source": [
    "\n",
    "\n",
    "for epoch in range(epochs):\n",
    "    \n",
    "    \n",
    "    model.train()\n",
    "    total_loss = 0\n",
    "    \n",
    "    for batch in tqdm(train_dataloader, desc=\"Epoch {}/{}\".format(epoch + 1 , epochs )):\n",
    "        \n",
    "        batch = tuple(t.to(device) for t in batch)\n",
    "        inputs = {\"input_ids\": batch[0], \"attention_mask\": batch[1], \"labels\": batch[2]}\n",
    "        \n",
    "        optimizer.zero_grad()\n",
    "        outputs = model(**inputs)\n",
    "        \n",
    "#         logits_list = outputs.logits.tolist()\n",
    "\n",
    "        loss = outputs.loss\n",
    "        loss.backward()\n",
    "        optimizer.step()\n",
    "        total_loss += loss.item()\n",
    "\n",
    "    avg_train_loss = total_loss / len(train_dataloader)\n",
    "    print(\"Average training loss: {:.4f}\".format(avg_train_loss))\n",
    "\n",
    "    model.eval()\n",
    "    eval_loss = 0\n",
    "    nb_eval_steps = 0\n",
    "    \n",
    "    predicted_keyphrases_list = []\n",
    "    original_keyphrases_list = []\n",
    "\n",
    "    for batch in tqdm(validation_dataloader, desc=\"Validation\"):\n",
    "        batch = tuple(t.to(device) for t in batch)\n",
    "        with torch.no_grad():\n",
    "            inputs = {\"input_ids\": batch[0], \"attention_mask\": batch[1], \"labels\": batch[2]}\n",
    "            outputs = model(**inputs)\n",
    "            tmp_eval_loss = outputs.loss\n",
    "            eval_loss += tmp_eval_loss.mean().item()\n",
    "            \n",
    "            predicted_labels = torch.argmax(outputs.logits, axis=-1)\n",
    "            predicted_keyphrases , original_keyphrases = return_keyphrase(batch[0].tolist() , outputs.logits.tolist() , batch[2].tolist())\n",
    "            \n",
    "            for keyphrase in predicted_keyphrases:\n",
    "                predicted_keyphrases_list.append(keyphrase)\n",
    "            \n",
    "            for orig_keyphrase in original_keyphrases:\n",
    "                original_keyphrases_list.append(orig_keyphrase)\n",
    "            \n",
    "        nb_eval_steps += 1\n",
    "\n",
    "    avg_val_loss = eval_loss / len(validation_dataloader)\n",
    "    print(\"Average validation loss: {:.4f}\".format(avg_val_loss))\n",
    "    \n",
    "    total_prediction = 0\n",
    "    total_original = 0\n",
    "    total_correct_prediction = 0\n",
    "    total_docs = 0\n",
    "    \n",
    "    preicision = 0.0\n",
    "    recall = 0.0\n",
    "    f1_score = 0.0\n",
    "    \n",
    "    for index in range(len(original_keyphrases_list)):\n",
    "        \n",
    "        predicted = predicted_keyphrases_list[index]\n",
    "        original = original_keyphrases_list[index]\n",
    "        \n",
    "        set_predicted = set(predicted)\n",
    "        set_original = set(original)\n",
    "        \n",
    "        correct_prediction = set_original.intersection(set_predicted)\n",
    "        \n",
    "        count_prediction = len(set_predicted)\n",
    "        count_original = len(set_original)\n",
    "        count_correct_prediction = len(correct_prediction)\n",
    "        \n",
    "        docs_precision = count_correct_prediction / count_prediction  if count_prediction > 0 else 0.0\n",
    "        docs_recall = count_correct_prediction / count_original  if count_original > 0  else 0.0\n",
    "        docs_f1_score = 2 * docs_precision * docs_recall / (docs_precision + docs_recall) if (docs_precision + docs_recall) > 0.0 else 0.0\n",
    "        \n",
    "        preicision += docs_precision\n",
    "        recall += docs_recall\n",
    "        f1_score += docs_f1_score\n",
    "\n",
    "        total_docs += 1\n",
    "    \n",
    "    final_precision = preicision/total_docs\n",
    "    final_recall = recall/total_docs\n",
    "    final_f1_score = f1_score/total_docs\n",
    "\n",
    "     \n",
    "    if final_f1_score > best_f1_score:\n",
    "        best_precision = final_precision\n",
    "        best_recall = final_recall\n",
    "        best_f1_score = final_f1_score\n",
    "\n",
    "        torch.save(model.state_dict(), 'best_model.pth')\n",
    "        \n",
    "    print(\"Validation Precision : {:.4f}\".format(final_precision))\n",
    "    print(\"Validation recall : {:.4f}\".format(final_recall))    \n",
    "    print(\"Validation f1_score : {:.4f}\".format(final_f1_score))    \n",
    "    print(\"================================================================================\")"
   ]
  },
  {
   "cell_type": "code",
   "execution_count": 35,
   "id": "1640b340",
   "metadata": {
    "execution": {
     "iopub.execute_input": "2024-05-07T16:17:03.247246Z",
     "iopub.status.busy": "2024-05-07T16:17:03.246494Z",
     "iopub.status.idle": "2024-05-07T16:17:03.251857Z",
     "shell.execute_reply": "2024-05-07T16:17:03.250906Z"
    },
    "papermill": {
     "duration": 0.149205,
     "end_time": "2024-05-07T16:17:03.254029",
     "exception": false,
     "start_time": "2024-05-07T16:17:03.104824",
     "status": "completed"
    },
    "tags": []
   },
   "outputs": [
    {
     "name": "stdout",
     "output_type": "stream",
     "text": [
      "Best Validation Precision : 0.5348\n",
      "Best Validation recall : 0.6076\n",
      "Best Validation f1_score : 0.5614\n"
     ]
    }
   ],
   "source": [
    "print(\"Best Validation Precision : {:.4f}\".format(best_precision))\n",
    "print(\"Best Validation recall : {:.4f}\".format(best_recall))    \n",
    "print(\"Best Validation f1_score : {:.4f}\".format(best_f1_score))  "
   ]
  },
  {
   "cell_type": "code",
   "execution_count": 36,
   "id": "02c97b27",
   "metadata": {
    "execution": {
     "iopub.execute_input": "2024-05-07T16:17:03.537277Z",
     "iopub.status.busy": "2024-05-07T16:17:03.536516Z",
     "iopub.status.idle": "2024-05-07T16:17:04.396608Z",
     "shell.execute_reply": "2024-05-07T16:17:04.395657Z"
    },
    "papermill": {
     "duration": 1.004552,
     "end_time": "2024-05-07T16:17:04.398831",
     "exception": false,
     "start_time": "2024-05-07T16:17:03.394279",
     "status": "completed"
    },
    "tags": []
   },
   "outputs": [
    {
     "name": "stderr",
     "output_type": "stream",
     "text": [
      "Some weights of BertForTokenClassification were not initialized from the model checkpoint at bert-base-uncased and are newly initialized: ['classifier.bias', 'classifier.weight']\n",
      "You should probably TRAIN this model on a down-stream task to be able to use it for predictions and inference.\n"
     ]
    },
    {
     "data": {
      "text/plain": [
       "<All keys matched successfully>"
      ]
     },
     "execution_count": 36,
     "metadata": {},
     "output_type": "execute_result"
    }
   ],
   "source": [
    "best_model = BertForTokenClassification.from_pretrained(\n",
    "    \"bert-base-uncased\",\n",
    "    num_labels=2,  # binary classification (keyphrase or not)\n",
    "    output_attentions=False,\n",
    "    output_hidden_states=False\n",
    ").to(device)\n",
    "best_model.load_state_dict(torch.load('best_model.pth'))"
   ]
  },
  {
   "cell_type": "code",
   "execution_count": 37,
   "id": "adb1a727",
   "metadata": {
    "execution": {
     "iopub.execute_input": "2024-05-07T16:17:04.682988Z",
     "iopub.status.busy": "2024-05-07T16:17:04.682136Z",
     "iopub.status.idle": "2024-05-07T16:17:06.230313Z",
     "shell.execute_reply": "2024-05-07T16:17:06.229296Z"
    },
    "papermill": {
     "duration": 1.691841,
     "end_time": "2024-05-07T16:17:06.232269",
     "exception": false,
     "start_time": "2024-05-07T16:17:04.540428",
     "status": "completed"
    },
    "tags": []
   },
   "outputs": [
    {
     "name": "stderr",
     "output_type": "stream",
     "text": [
      "Test: 100%|██████████| 7/7 [00:01<00:00,  4.58it/s]"
     ]
    },
    {
     "name": "stdout",
     "output_type": "stream",
     "text": [
      "Average Test loss: 0.4100\n",
      "Test Precision : 0.4912\n",
      "Test recall : 0.5924\n",
      "Test f1_score : 0.5371\n",
      "================================================================================\n"
     ]
    },
    {
     "name": "stderr",
     "output_type": "stream",
     "text": [
      "\n"
     ]
    }
   ],
   "source": [
    "best_model.eval()\n",
    "test_loss = 0\n",
    "nb_test_steps = 0\n",
    "\n",
    "predicted_keyphrases_list = []\n",
    "original_keyphrases_list = []\n",
    "\n",
    "for batch in tqdm(test_dataloader, desc=\"Test\"):\n",
    "    \n",
    "    batch = tuple(t.to(device) for t in batch)\n",
    "    \n",
    "    with torch.no_grad():\n",
    "        inputs = {\"input_ids\": batch[0], \"attention_mask\": batch[1], \"labels\": batch[2]}\n",
    "        outputs = best_model(**inputs)\n",
    "        tmp_test_loss = outputs.loss\n",
    "        test_loss += tmp_test_loss.mean().item()\n",
    "\n",
    "        predicted_labels = torch.argmax(outputs.logits, axis=-1)\n",
    "        predicted_keyphrases , original_keyphrases = return_keyphrase(batch[0].tolist() , outputs.logits.tolist() , batch[2].tolist())\n",
    "\n",
    "        for keyphrase in predicted_keyphrases:\n",
    "            predicted_keyphrases_list.append(keyphrase)\n",
    "\n",
    "        for orig_keyphrase in original_keyphrases:\n",
    "            original_keyphrases_list.append(orig_keyphrase)\n",
    "\n",
    "    nb_test_steps += 1\n",
    "\n",
    "avg_test_loss = test_loss / len(test_dataloader)\n",
    "print(\"Average Test loss: {:.4f}\".format(avg_val_loss))\n",
    "\n",
    "total_prediction = 0\n",
    "total_original = 0\n",
    "total_correct_prediction = 0\n",
    "\n",
    "for index in range(len(original_keyphrases_list)):\n",
    "\n",
    "    predicted = predicted_keyphrases_list[index]\n",
    "    original = original_keyphrases_list[index]\n",
    "\n",
    "    set_predicted = set(predicted)\n",
    "    set_original = set(original)\n",
    "\n",
    "    correct_prediction = set_original.intersection(set_predicted)\n",
    "\n",
    "    count_prediction = len(set_predicted)\n",
    "    count_original = len(set_original)\n",
    "    count_correct_prediction = len(correct_prediction)\n",
    "\n",
    "    total_prediction += count_prediction\n",
    "    total_original += count_original\n",
    "    total_correct_prediction += count_correct_prediction\n",
    "\n",
    "\n",
    "precision , recall, f1_socre = 0.0 , 0.0 , 0.0\n",
    "\n",
    "precision =  total_correct_prediction / total_prediction  if total_prediction > 0 else 0.0\n",
    "recall = total_correct_prediction / total_original  if total_original > 0  else 0.0\n",
    "f1_score = 2 * precision * recall / (precision + recall) if (precision + recall) > 0.0 else 0.0\n",
    "\n",
    "print(\"Test Precision : {:.4f}\".format(precision))\n",
    "print(\"Test recall : {:.4f}\".format(recall))    \n",
    "print(\"Test f1_score : {:.4f}\".format(f1_score))    \n",
    "print(\"================================================================================\")"
   ]
  },
  {
   "cell_type": "code",
   "execution_count": null,
   "id": "a9257123",
   "metadata": {
    "papermill": {
     "duration": 0.14012,
     "end_time": "2024-05-07T16:17:06.515118",
     "exception": false,
     "start_time": "2024-05-07T16:17:06.374998",
     "status": "completed"
    },
    "tags": []
   },
   "outputs": [],
   "source": []
  },
  {
   "cell_type": "code",
   "execution_count": 38,
   "id": "bc20be74",
   "metadata": {
    "execution": {
     "iopub.execute_input": "2024-05-07T16:17:06.853913Z",
     "iopub.status.busy": "2024-05-07T16:17:06.853061Z",
     "iopub.status.idle": "2024-05-07T16:17:06.869311Z",
     "shell.execute_reply": "2024-05-07T16:17:06.868405Z"
    },
    "papermill": {
     "duration": 0.162044,
     "end_time": "2024-05-07T16:17:06.871140",
     "exception": false,
     "start_time": "2024-05-07T16:17:06.709096",
     "status": "completed"
    },
    "tags": []
   },
   "outputs": [],
   "source": [
    "def find_keyphrases_at_interfernce(abstract , model_file_path):\n",
    "    \n",
    "    tokenizer = BertTokenizer.from_pretrained('bert-base-uncased', do_lower_case=True)\n",
    "    \n",
    "    tokenized_abstract = tokenizer.tokenize(abstract)\n",
    "    max_length = max(len(txt) for txt in tokenized_abstract)\n",
    "    \n",
    "    input_ids = torch.tensor([tokenizer.convert_tokens_to_ids(txt) for txt in tokenized_abstract])\n",
    "\n",
    "    \n",
    "    masks = torch.where(input_ids != 0, torch.tensor(1), torch.tensor(0))\n",
    "    id_to_token = {token_id: token for token, token_id in tokenizer.vocab.items()}\n",
    "\n",
    "    \n",
    "    interfernce_data = TensorDataset(input_ids, masks)\n",
    "    interfernce_sampler = RandomSampler(interfernce_data)\n",
    "    interfernce_dataloader = DataLoader(interfernce_data, sampler=test_sampler, batch_size=1)\n",
    "    \n",
    "    device = torch.device(\"cuda\" if torch.cuda.is_available() else \"cpu\")\n",
    "\n",
    "    \n",
    "    model = BertForTokenClassification.from_pretrained(\n",
    "        \"bert-base-uncased\",\n",
    "        num_labels=2, \n",
    "        output_attentions=False,\n",
    "        output_hidden_states=False\n",
    "    ).to(device)\n",
    "    \n",
    "    model.load_state_dict(torch.load(model_file_path))\n",
    "    model.eval()\n",
    "    \n",
    "    \n",
    "    for batch in tqdm(interfernce_dataloader, desc=\"Interfernce\"):\n",
    "    \n",
    "        batch = tuple(t.to(device) for t in batch)\n",
    "\n",
    "        with torch.no_grad():\n",
    "            inputs = {\"input_ids\": batch[0], \"attention_mask\": batch[1]}\n",
    "            outputs = model(**inputs)\n",
    "    \n",
    "            predicted_keyphrases = return_keyphrase(batch[0].tolist() , outputs.logits.tolist())\n",
    "            \n",
    "            predited_sequence = []\n",
    "            batch_size = len(logits_list)\n",
    "\n",
    "            for b in range(batch_size):\n",
    "\n",
    "                batch_res = []\n",
    "                logits_element = logits_list[b]\n",
    "\n",
    "                for logit in logits_element:\n",
    "\n",
    "                    zero_class_logit = logit[0]\n",
    "                    one_class_logit = logit[1]\n",
    "\n",
    "                    if zero_class_logit > one_class_logit:\n",
    "                        batch_res.append(0)\n",
    "                    else:\n",
    "                        batch_res.append(1)\n",
    "\n",
    "                predited_sequence.append(batch_res)\n",
    "\n",
    "            predicted_keyphrases = []\n",
    "\n",
    "            for b in range(batch_size):\n",
    "\n",
    "                pred_seq = predited_sequence[b]\n",
    "                sent = sentence[b]        \n",
    "                sent_len = len(sent)\n",
    "\n",
    "                pred_phrase = []        \n",
    "                list_of_pred_phrase = []\n",
    "\n",
    "                for index in range(sent_len):\n",
    "\n",
    "                    logit = pred_seq[index]\n",
    "                    word_index = sent[index]\n",
    "                    word = id_to_token[word_index]\n",
    "\n",
    "                    if logit == 0:\n",
    "\n",
    "                        if len(pred_phrase) < 1:\n",
    "                            continue\n",
    "\n",
    "                        decoded_sentence = tokenizer.convert_tokens_to_string(pred_phrase)       \n",
    "                        list_of_pred_phrase.append(decoded_sentence)\n",
    "\n",
    "                        pred_phrase = []\n",
    "\n",
    "                    else:\n",
    "                        pred_phrase.append(word)\n",
    "\n",
    "                if len(pred_phrase) > 0:\n",
    "                    decoded_sentence = tokenizer.convert_tokens_to_string(pred_phrase)       \n",
    "                    list_of_pred_phrase.append(decoded_sentence)\n",
    "\n",
    "                predicted_keyphrases.append(list_of_pred_phrase)  \n",
    "    \n",
    "    return predicted_keyphrases"
   ]
  },
  {
   "cell_type": "code",
   "execution_count": 39,
   "id": "82bf70f8",
   "metadata": {
    "execution": {
     "iopub.execute_input": "2024-05-07T16:17:07.156003Z",
     "iopub.status.busy": "2024-05-07T16:17:07.155369Z",
     "iopub.status.idle": "2024-05-07T16:17:07.160264Z",
     "shell.execute_reply": "2024-05-07T16:17:07.159362Z"
    },
    "papermill": {
     "duration": 0.148951,
     "end_time": "2024-05-07T16:17:07.162241",
     "exception": false,
     "start_time": "2024-05-07T16:17:07.013290",
     "status": "completed"
    },
    "tags": []
   },
   "outputs": [],
   "source": [
    "abstract = \"Fig. 9 displays the growth of two of the main corrosion products that develop or form on the surface of Cu40Zn with time, hydrozincite (Fig. 9a) and Cu2O (Fig. 9b). It should be remembered that both phases were present already from start of the exposure. The data is presented in absorbance units and allows comparisons to be made of the amounts of each species between the two Cu40Zn surfaces investigated, DP and HZ7. The tendency is very clear that the formation rates of both hydrozincite and cuprite are quite suppressed for Cu40Zn with preformed hydrozincite (HZ7) compared to the diamond polished surface (DP). In summary, without being able to consider the formation of simonkolleite, it can be concluded that an increased surface coverage of hydrozincite reduces the initial spreading ability of the NaCl-containing droplets and thereby lowers the overall formation rate of hydrozincite and cuprite.\""
   ]
  },
  {
   "cell_type": "code",
   "execution_count": 40,
   "id": "b48dafb6",
   "metadata": {
    "execution": {
     "iopub.execute_input": "2024-05-07T16:17:07.450240Z",
     "iopub.status.busy": "2024-05-07T16:17:07.449462Z",
     "iopub.status.idle": "2024-05-07T16:17:07.542815Z",
     "shell.execute_reply": "2024-05-07T16:17:07.541859Z"
    },
    "papermill": {
     "duration": 0.238282,
     "end_time": "2024-05-07T16:17:07.544920",
     "exception": false,
     "start_time": "2024-05-07T16:17:07.306638",
     "status": "completed"
    },
    "tags": []
   },
   "outputs": [
    {
     "name": "stderr",
     "output_type": "stream",
     "text": [
      "We strongly recommend passing in an `attention_mask` since your input_ids may be padded. See https://huggingface.co/docs/transformers/troubleshooting#incorrect-output-when-padding-tokens-arent-masked.\n"
     ]
    },
    {
     "name": "stdout",
     "output_type": "stream",
     "text": [
      "Predicted Keyphrases: ['simonkolleite', 'cu2o', 'nacl - containing droplets', 'pre', 'hz7', 'hydrozincite', 'dp', 'cu40zn', 'cu40zn surfaces', 'absorbance units', 'diamond polished surface', 'cuprite', 'dp and hz7', 'corrosion products']\n"
     ]
    }
   ],
   "source": [
    "def predict_keyphrases(model, tokenizer, abstract):\n",
    "    model.eval()\n",
    "    \n",
    "    tokenized_abstract = tokenizer.tokenize(abstract)\n",
    "\n",
    "    input_ids = tokenizer.convert_tokens_to_ids(tokenized_abstract)\n",
    "    \n",
    "    # Add padding to match the maximum sequence length\n",
    "    max_length = model.config.max_position_embeddings\n",
    "    input_ids += [tokenizer.pad_token_id] * (max_length - len(input_ids))\n",
    "    \n",
    "    # Convert to tensor\n",
    "    input_ids_tensor = torch.tensor(input_ids).unsqueeze(0).to(device)  # Add batch dimension\n",
    "    \n",
    "    # Perform forward pass\n",
    "    with torch.no_grad():\n",
    "        outputs = model(input_ids_tensor)\n",
    "    \n",
    "    # Get predicted labels\n",
    "    predicted_labels = torch.argmax(outputs.logits, axis=-1).squeeze(0).tolist()\n",
    "    \n",
    "    # Decode predicted keyphrases\n",
    "    predicted_keyphrases = []\n",
    "    current_keyphrase = []\n",
    "    for i, token_id in enumerate(input_ids):\n",
    "        token = tokenizer.convert_ids_to_tokens(token_id)\n",
    "        if token == '[PAD]':\n",
    "            break\n",
    "        if predicted_labels[i] == 1:  # Token belongs to keyphrase\n",
    "            current_keyphrase.append(token)\n",
    "        else:\n",
    "            if current_keyphrase:\n",
    "                predicted_keyphrases.append(tokenizer.convert_tokens_to_string(current_keyphrase))\n",
    "                current_keyphrase = []\n",
    "    \n",
    "    return predicted_keyphrases\n",
    "\n",
    "# Example usage\n",
    "# abstract = \"This is a sample abstract about natural language processing.\"\n",
    "predicted_keyphrases = list(set(predict_keyphrases(best_model, tokenizer, abstract)))\n",
    "print(\"Predicted Keyphrases:\", predicted_keyphrases)\n"
   ]
  },
  {
   "cell_type": "code",
   "execution_count": 41,
   "id": "839f5d34",
   "metadata": {
    "execution": {
     "iopub.execute_input": "2024-05-07T16:17:07.833054Z",
     "iopub.status.busy": "2024-05-07T16:17:07.832120Z",
     "iopub.status.idle": "2024-05-07T16:17:07.838614Z",
     "shell.execute_reply": "2024-05-07T16:17:07.837801Z"
    },
    "papermill": {
     "duration": 0.152815,
     "end_time": "2024-05-07T16:17:07.840497",
     "exception": false,
     "start_time": "2024-05-07T16:17:07.687682",
     "status": "completed"
    },
    "tags": []
   },
   "outputs": [
    {
     "data": {
      "text/plain": [
       "14"
      ]
     },
     "execution_count": 41,
     "metadata": {},
     "output_type": "execute_result"
    }
   ],
   "source": [
    "len(predicted_keyphrases)"
   ]
  },
  {
   "cell_type": "code",
   "execution_count": null,
   "id": "b822aba3",
   "metadata": {
    "papermill": {
     "duration": 0.142846,
     "end_time": "2024-05-07T16:17:08.130878",
     "exception": false,
     "start_time": "2024-05-07T16:17:07.988032",
     "status": "completed"
    },
    "tags": []
   },
   "outputs": [],
   "source": []
  }
 ],
 "metadata": {
  "kaggle": {
   "accelerator": "gpu",
   "dataSources": [
    {
     "datasetId": 4944513,
     "sourceId": 8323810,
     "sourceType": "datasetVersion"
    },
    {
     "datasetId": 4948399,
     "sourceId": 8333045,
     "sourceType": "datasetVersion"
    }
   ],
   "dockerImageVersionId": 30698,
   "isGpuEnabled": true,
   "isInternetEnabled": true,
   "language": "python",
   "sourceType": "notebook"
  },
  "kernelspec": {
   "display_name": "Python 3",
   "language": "python",
   "name": "python3"
  },
  "language_info": {
   "codemirror_mode": {
    "name": "ipython",
    "version": 3
   },
   "file_extension": ".py",
   "mimetype": "text/x-python",
   "name": "python",
   "nbconvert_exporter": "python",
   "pygments_lexer": "ipython3",
   "version": "3.10.13"
  },
  "papermill": {
   "default_parameters": {},
   "duration": 909.674123,
   "end_time": "2024-05-07T16:17:10.754588",
   "environment_variables": {},
   "exception": null,
   "input_path": "__notebook__.ipynb",
   "output_path": "__notebook__.ipynb",
   "parameters": {},
   "start_time": "2024-05-07T16:02:01.080465",
   "version": "2.5.0"
  },
  "widgets": {
   "application/vnd.jupyter.widget-state+json": {
    "state": {
     "025ddd61933944239aa66e308a78ab10": {
      "model_module": "@jupyter-widgets/controls",
      "model_module_version": "1.5.0",
      "model_name": "ProgressStyleModel",
      "state": {
       "_model_module": "@jupyter-widgets/controls",
       "_model_module_version": "1.5.0",
       "_model_name": "ProgressStyleModel",
       "_view_count": null,
       "_view_module": "@jupyter-widgets/base",
       "_view_module_version": "1.2.0",
       "_view_name": "StyleView",
       "bar_color": null,
       "description_width": ""
      }
     },
     "047f4ae8d9ca46738a90f55dd39d4760": {
      "model_module": "@jupyter-widgets/controls",
      "model_module_version": "1.5.0",
      "model_name": "ProgressStyleModel",
      "state": {
       "_model_module": "@jupyter-widgets/controls",
       "_model_module_version": "1.5.0",
       "_model_name": "ProgressStyleModel",
       "_view_count": null,
       "_view_module": "@jupyter-widgets/base",
       "_view_module_version": "1.2.0",
       "_view_name": "StyleView",
       "bar_color": null,
       "description_width": ""
      }
     },
     "0c88ae612eed46e694cf34aca2ff0407": {
      "model_module": "@jupyter-widgets/controls",
      "model_module_version": "1.5.0",
      "model_name": "FloatProgressModel",
      "state": {
       "_dom_classes": [],
       "_model_module": "@jupyter-widgets/controls",
       "_model_module_version": "1.5.0",
       "_model_name": "FloatProgressModel",
       "_view_count": null,
       "_view_module": "@jupyter-widgets/controls",
       "_view_module_version": "1.5.0",
       "_view_name": "ProgressView",
       "bar_style": "success",
       "description": "",
       "description_tooltip": null,
       "layout": "IPY_MODEL_2c1e8616d2454356a4a5c512e9450e24",
       "max": 466062.0,
       "min": 0.0,
       "orientation": "horizontal",
       "style": "IPY_MODEL_047f4ae8d9ca46738a90f55dd39d4760",
       "value": 466062.0
      }
     },
     "11b9c9d617ea40c9870b042406f0a7c0": {
      "model_module": "@jupyter-widgets/controls",
      "model_module_version": "1.5.0",
      "model_name": "ProgressStyleModel",
      "state": {
       "_model_module": "@jupyter-widgets/controls",
       "_model_module_version": "1.5.0",
       "_model_name": "ProgressStyleModel",
       "_view_count": null,
       "_view_module": "@jupyter-widgets/base",
       "_view_module_version": "1.2.0",
       "_view_name": "StyleView",
       "bar_color": null,
       "description_width": ""
      }
     },
     "123f0412b49940e9bac82ad79812404c": {
      "model_module": "@jupyter-widgets/controls",
      "model_module_version": "1.5.0",
      "model_name": "DescriptionStyleModel",
      "state": {
       "_model_module": "@jupyter-widgets/controls",
       "_model_module_version": "1.5.0",
       "_model_name": "DescriptionStyleModel",
       "_view_count": null,
       "_view_module": "@jupyter-widgets/base",
       "_view_module_version": "1.2.0",
       "_view_name": "StyleView",
       "description_width": ""
      }
     },
     "129048e976ac4e94906927215dc27e58": {
      "model_module": "@jupyter-widgets/base",
      "model_module_version": "1.2.0",
      "model_name": "LayoutModel",
      "state": {
       "_model_module": "@jupyter-widgets/base",
       "_model_module_version": "1.2.0",
       "_model_name": "LayoutModel",
       "_view_count": null,
       "_view_module": "@jupyter-widgets/base",
       "_view_module_version": "1.2.0",
       "_view_name": "LayoutView",
       "align_content": null,
       "align_items": null,
       "align_self": null,
       "border": null,
       "bottom": null,
       "display": null,
       "flex": null,
       "flex_flow": null,
       "grid_area": null,
       "grid_auto_columns": null,
       "grid_auto_flow": null,
       "grid_auto_rows": null,
       "grid_column": null,
       "grid_gap": null,
       "grid_row": null,
       "grid_template_areas": null,
       "grid_template_columns": null,
       "grid_template_rows": null,
       "height": null,
       "justify_content": null,
       "justify_items": null,
       "left": null,
       "margin": null,
       "max_height": null,
       "max_width": null,
       "min_height": null,
       "min_width": null,
       "object_fit": null,
       "object_position": null,
       "order": null,
       "overflow": null,
       "overflow_x": null,
       "overflow_y": null,
       "padding": null,
       "right": null,
       "top": null,
       "visibility": null,
       "width": null
      }
     },
     "15794897b7454393a5437f26bd2a6be8": {
      "model_module": "@jupyter-widgets/controls",
      "model_module_version": "1.5.0",
      "model_name": "HBoxModel",
      "state": {
       "_dom_classes": [],
       "_model_module": "@jupyter-widgets/controls",
       "_model_module_version": "1.5.0",
       "_model_name": "HBoxModel",
       "_view_count": null,
       "_view_module": "@jupyter-widgets/controls",
       "_view_module_version": "1.5.0",
       "_view_name": "HBoxView",
       "box_style": "",
       "children": [
        "IPY_MODEL_8bbcbcb16e7b45599c062e3d2ae83bf2",
        "IPY_MODEL_b2d1add24e5a4c968476451c8f6b1a58",
        "IPY_MODEL_1ce693e7d78f4314b4a0a42809cadf84"
       ],
       "layout": "IPY_MODEL_a1842ef7d7b6425d9499d7edd24f2bbc"
      }
     },
     "1ce693e7d78f4314b4a0a42809cadf84": {
      "model_module": "@jupyter-widgets/controls",
      "model_module_version": "1.5.0",
      "model_name": "HTMLModel",
      "state": {
       "_dom_classes": [],
       "_model_module": "@jupyter-widgets/controls",
       "_model_module_version": "1.5.0",
       "_model_name": "HTMLModel",
       "_view_count": null,
       "_view_module": "@jupyter-widgets/controls",
       "_view_module_version": "1.5.0",
       "_view_name": "HTMLView",
       "description": "",
       "description_tooltip": null,
       "layout": "IPY_MODEL_910707be377b44a2a91457880d4bea5d",
       "placeholder": "​",
       "style": "IPY_MODEL_da24435898424ab4a4bc20da875eed49",
       "value": " 440M/440M [00:01&lt;00:00, 291MB/s]"
      }
     },
     "286cfc2a66224b3ea70c6af59fef13cf": {
      "model_module": "@jupyter-widgets/controls",
      "model_module_version": "1.5.0",
      "model_name": "ProgressStyleModel",
      "state": {
       "_model_module": "@jupyter-widgets/controls",
       "_model_module_version": "1.5.0",
       "_model_name": "ProgressStyleModel",
       "_view_count": null,
       "_view_module": "@jupyter-widgets/base",
       "_view_module_version": "1.2.0",
       "_view_name": "StyleView",
       "bar_color": null,
       "description_width": ""
      }
     },
     "2c1e8616d2454356a4a5c512e9450e24": {
      "model_module": "@jupyter-widgets/base",
      "model_module_version": "1.2.0",
      "model_name": "LayoutModel",
      "state": {
       "_model_module": "@jupyter-widgets/base",
       "_model_module_version": "1.2.0",
       "_model_name": "LayoutModel",
       "_view_count": null,
       "_view_module": "@jupyter-widgets/base",
       "_view_module_version": "1.2.0",
       "_view_name": "LayoutView",
       "align_content": null,
       "align_items": null,
       "align_self": null,
       "border": null,
       "bottom": null,
       "display": null,
       "flex": null,
       "flex_flow": null,
       "grid_area": null,
       "grid_auto_columns": null,
       "grid_auto_flow": null,
       "grid_auto_rows": null,
       "grid_column": null,
       "grid_gap": null,
       "grid_row": null,
       "grid_template_areas": null,
       "grid_template_columns": null,
       "grid_template_rows": null,
       "height": null,
       "justify_content": null,
       "justify_items": null,
       "left": null,
       "margin": null,
       "max_height": null,
       "max_width": null,
       "min_height": null,
       "min_width": null,
       "object_fit": null,
       "object_position": null,
       "order": null,
       "overflow": null,
       "overflow_x": null,
       "overflow_y": null,
       "padding": null,
       "right": null,
       "top": null,
       "visibility": null,
       "width": null
      }
     },
     "35feebc1c0b243f9866aaef43af2008f": {
      "model_module": "@jupyter-widgets/base",
      "model_module_version": "1.2.0",
      "model_name": "LayoutModel",
      "state": {
       "_model_module": "@jupyter-widgets/base",
       "_model_module_version": "1.2.0",
       "_model_name": "LayoutModel",
       "_view_count": null,
       "_view_module": "@jupyter-widgets/base",
       "_view_module_version": "1.2.0",
       "_view_name": "LayoutView",
       "align_content": null,
       "align_items": null,
       "align_self": null,
       "border": null,
       "bottom": null,
       "display": null,
       "flex": null,
       "flex_flow": null,
       "grid_area": null,
       "grid_auto_columns": null,
       "grid_auto_flow": null,
       "grid_auto_rows": null,
       "grid_column": null,
       "grid_gap": null,
       "grid_row": null,
       "grid_template_areas": null,
       "grid_template_columns": null,
       "grid_template_rows": null,
       "height": null,
       "justify_content": null,
       "justify_items": null,
       "left": null,
       "margin": null,
       "max_height": null,
       "max_width": null,
       "min_height": null,
       "min_width": null,
       "object_fit": null,
       "object_position": null,
       "order": null,
       "overflow": null,
       "overflow_x": null,
       "overflow_y": null,
       "padding": null,
       "right": null,
       "top": null,
       "visibility": null,
       "width": null
      }
     },
     "47a9ed6dfcd941d4864123c77b337e8b": {
      "model_module": "@jupyter-widgets/base",
      "model_module_version": "1.2.0",
      "model_name": "LayoutModel",
      "state": {
       "_model_module": "@jupyter-widgets/base",
       "_model_module_version": "1.2.0",
       "_model_name": "LayoutModel",
       "_view_count": null,
       "_view_module": "@jupyter-widgets/base",
       "_view_module_version": "1.2.0",
       "_view_name": "LayoutView",
       "align_content": null,
       "align_items": null,
       "align_self": null,
       "border": null,
       "bottom": null,
       "display": null,
       "flex": null,
       "flex_flow": null,
       "grid_area": null,
       "grid_auto_columns": null,
       "grid_auto_flow": null,
       "grid_auto_rows": null,
       "grid_column": null,
       "grid_gap": null,
       "grid_row": null,
       "grid_template_areas": null,
       "grid_template_columns": null,
       "grid_template_rows": null,
       "height": null,
       "justify_content": null,
       "justify_items": null,
       "left": null,
       "margin": null,
       "max_height": null,
       "max_width": null,
       "min_height": null,
       "min_width": null,
       "object_fit": null,
       "object_position": null,
       "order": null,
       "overflow": null,
       "overflow_x": null,
       "overflow_y": null,
       "padding": null,
       "right": null,
       "top": null,
       "visibility": null,
       "width": null
      }
     },
     "4f80432ce5b940b48ac91cfad15cf8d7": {
      "model_module": "@jupyter-widgets/controls",
      "model_module_version": "1.5.0",
      "model_name": "ProgressStyleModel",
      "state": {
       "_model_module": "@jupyter-widgets/controls",
       "_model_module_version": "1.5.0",
       "_model_name": "ProgressStyleModel",
       "_view_count": null,
       "_view_module": "@jupyter-widgets/base",
       "_view_module_version": "1.2.0",
       "_view_name": "StyleView",
       "bar_color": null,
       "description_width": ""
      }
     },
     "516bae42f835429daffd1f01d152849e": {
      "model_module": "@jupyter-widgets/controls",
      "model_module_version": "1.5.0",
      "model_name": "HTMLModel",
      "state": {
       "_dom_classes": [],
       "_model_module": "@jupyter-widgets/controls",
       "_model_module_version": "1.5.0",
       "_model_name": "HTMLModel",
       "_view_count": null,
       "_view_module": "@jupyter-widgets/controls",
       "_view_module_version": "1.5.0",
       "_view_name": "HTMLView",
       "description": "",
       "description_tooltip": null,
       "layout": "IPY_MODEL_a7ab2428807f442b8683b8796611b524",
       "placeholder": "​",
       "style": "IPY_MODEL_dc5cf2ef010a441392ca35304e43d333",
       "value": " 570/570 [00:00&lt;00:00, 40.7kB/s]"
      }
     },
     "58c509c0d86348419880b153d6690bbf": {
      "model_module": "@jupyter-widgets/base",
      "model_module_version": "1.2.0",
      "model_name": "LayoutModel",
      "state": {
       "_model_module": "@jupyter-widgets/base",
       "_model_module_version": "1.2.0",
       "_model_name": "LayoutModel",
       "_view_count": null,
       "_view_module": "@jupyter-widgets/base",
       "_view_module_version": "1.2.0",
       "_view_name": "LayoutView",
       "align_content": null,
       "align_items": null,
       "align_self": null,
       "border": null,
       "bottom": null,
       "display": null,
       "flex": null,
       "flex_flow": null,
       "grid_area": null,
       "grid_auto_columns": null,
       "grid_auto_flow": null,
       "grid_auto_rows": null,
       "grid_column": null,
       "grid_gap": null,
       "grid_row": null,
       "grid_template_areas": null,
       "grid_template_columns": null,
       "grid_template_rows": null,
       "height": null,
       "justify_content": null,
       "justify_items": null,
       "left": null,
       "margin": null,
       "max_height": null,
       "max_width": null,
       "min_height": null,
       "min_width": null,
       "object_fit": null,
       "object_position": null,
       "order": null,
       "overflow": null,
       "overflow_x": null,
       "overflow_y": null,
       "padding": null,
       "right": null,
       "top": null,
       "visibility": null,
       "width": null
      }
     },
     "58f62feaff5c4902a72a2d9cb87e0299": {
      "model_module": "@jupyter-widgets/base",
      "model_module_version": "1.2.0",
      "model_name": "LayoutModel",
      "state": {
       "_model_module": "@jupyter-widgets/base",
       "_model_module_version": "1.2.0",
       "_model_name": "LayoutModel",
       "_view_count": null,
       "_view_module": "@jupyter-widgets/base",
       "_view_module_version": "1.2.0",
       "_view_name": "LayoutView",
       "align_content": null,
       "align_items": null,
       "align_self": null,
       "border": null,
       "bottom": null,
       "display": null,
       "flex": null,
       "flex_flow": null,
       "grid_area": null,
       "grid_auto_columns": null,
       "grid_auto_flow": null,
       "grid_auto_rows": null,
       "grid_column": null,
       "grid_gap": null,
       "grid_row": null,
       "grid_template_areas": null,
       "grid_template_columns": null,
       "grid_template_rows": null,
       "height": null,
       "justify_content": null,
       "justify_items": null,
       "left": null,
       "margin": null,
       "max_height": null,
       "max_width": null,
       "min_height": null,
       "min_width": null,
       "object_fit": null,
       "object_position": null,
       "order": null,
       "overflow": null,
       "overflow_x": null,
       "overflow_y": null,
       "padding": null,
       "right": null,
       "top": null,
       "visibility": null,
       "width": null
      }
     },
     "5d826e7fd68141be9919889bc0be9417": {
      "model_module": "@jupyter-widgets/controls",
      "model_module_version": "1.5.0",
      "model_name": "DescriptionStyleModel",
      "state": {
       "_model_module": "@jupyter-widgets/controls",
       "_model_module_version": "1.5.0",
       "_model_name": "DescriptionStyleModel",
       "_view_count": null,
       "_view_module": "@jupyter-widgets/base",
       "_view_module_version": "1.2.0",
       "_view_name": "StyleView",
       "description_width": ""
      }
     },
     "65f7b85b8cf34146af39008c92481d21": {
      "model_module": "@jupyter-widgets/controls",
      "model_module_version": "1.5.0",
      "model_name": "HBoxModel",
      "state": {
       "_dom_classes": [],
       "_model_module": "@jupyter-widgets/controls",
       "_model_module_version": "1.5.0",
       "_model_name": "HBoxModel",
       "_view_count": null,
       "_view_module": "@jupyter-widgets/controls",
       "_view_module_version": "1.5.0",
       "_view_name": "HBoxView",
       "box_style": "",
       "children": [
        "IPY_MODEL_b2f95abdfc444dbd8b7a88feb62f4294",
        "IPY_MODEL_9f3cf0edd9db43bca5a84fc097f56557",
        "IPY_MODEL_dd5bb42dd6ad4b4384dec72984c11a43"
       ],
       "layout": "IPY_MODEL_58c509c0d86348419880b153d6690bbf"
      }
     },
     "66b4f3361c284bfc8cf6880b4fa768eb": {
      "model_module": "@jupyter-widgets/controls",
      "model_module_version": "1.5.0",
      "model_name": "HTMLModel",
      "state": {
       "_dom_classes": [],
       "_model_module": "@jupyter-widgets/controls",
       "_model_module_version": "1.5.0",
       "_model_name": "HTMLModel",
       "_view_count": null,
       "_view_module": "@jupyter-widgets/controls",
       "_view_module_version": "1.5.0",
       "_view_name": "HTMLView",
       "description": "",
       "description_tooltip": null,
       "layout": "IPY_MODEL_35feebc1c0b243f9866aaef43af2008f",
       "placeholder": "​",
       "style": "IPY_MODEL_9606d29cc9fb45cf8fdd49b033e774bb",
       "value": "tokenizer_config.json: 100%"
      }
     },
     "70cc649a45ca427e8a2574f0a54c8195": {
      "model_module": "@jupyter-widgets/base",
      "model_module_version": "1.2.0",
      "model_name": "LayoutModel",
      "state": {
       "_model_module": "@jupyter-widgets/base",
       "_model_module_version": "1.2.0",
       "_model_name": "LayoutModel",
       "_view_count": null,
       "_view_module": "@jupyter-widgets/base",
       "_view_module_version": "1.2.0",
       "_view_name": "LayoutView",
       "align_content": null,
       "align_items": null,
       "align_self": null,
       "border": null,
       "bottom": null,
       "display": null,
       "flex": null,
       "flex_flow": null,
       "grid_area": null,
       "grid_auto_columns": null,
       "grid_auto_flow": null,
       "grid_auto_rows": null,
       "grid_column": null,
       "grid_gap": null,
       "grid_row": null,
       "grid_template_areas": null,
       "grid_template_columns": null,
       "grid_template_rows": null,
       "height": null,
       "justify_content": null,
       "justify_items": null,
       "left": null,
       "margin": null,
       "max_height": null,
       "max_width": null,
       "min_height": null,
       "min_width": null,
       "object_fit": null,
       "object_position": null,
       "order": null,
       "overflow": null,
       "overflow_x": null,
       "overflow_y": null,
       "padding": null,
       "right": null,
       "top": null,
       "visibility": null,
       "width": null
      }
     },
     "72904fa3581f4509b10bbdd064239713": {
      "model_module": "@jupyter-widgets/base",
      "model_module_version": "1.2.0",
      "model_name": "LayoutModel",
      "state": {
       "_model_module": "@jupyter-widgets/base",
       "_model_module_version": "1.2.0",
       "_model_name": "LayoutModel",
       "_view_count": null,
       "_view_module": "@jupyter-widgets/base",
       "_view_module_version": "1.2.0",
       "_view_name": "LayoutView",
       "align_content": null,
       "align_items": null,
       "align_self": null,
       "border": null,
       "bottom": null,
       "display": null,
       "flex": null,
       "flex_flow": null,
       "grid_area": null,
       "grid_auto_columns": null,
       "grid_auto_flow": null,
       "grid_auto_rows": null,
       "grid_column": null,
       "grid_gap": null,
       "grid_row": null,
       "grid_template_areas": null,
       "grid_template_columns": null,
       "grid_template_rows": null,
       "height": null,
       "justify_content": null,
       "justify_items": null,
       "left": null,
       "margin": null,
       "max_height": null,
       "max_width": null,
       "min_height": null,
       "min_width": null,
       "object_fit": null,
       "object_position": null,
       "order": null,
       "overflow": null,
       "overflow_x": null,
       "overflow_y": null,
       "padding": null,
       "right": null,
       "top": null,
       "visibility": null,
       "width": null
      }
     },
     "78d90e1a38934636af722b30a8ad3525": {
      "model_module": "@jupyter-widgets/controls",
      "model_module_version": "1.5.0",
      "model_name": "HTMLModel",
      "state": {
       "_dom_classes": [],
       "_model_module": "@jupyter-widgets/controls",
       "_model_module_version": "1.5.0",
       "_model_name": "HTMLModel",
       "_view_count": null,
       "_view_module": "@jupyter-widgets/controls",
       "_view_module_version": "1.5.0",
       "_view_name": "HTMLView",
       "description": "",
       "description_tooltip": null,
       "layout": "IPY_MODEL_fc7734702a0d4c9295e539bafba7733f",
       "placeholder": "​",
       "style": "IPY_MODEL_95ff05e4b14849b89cbe6006d514f2d4",
       "value": "config.json: 100%"
      }
     },
     "7b2d66cbad4e43578d4dae6064b2978e": {
      "model_module": "@jupyter-widgets/base",
      "model_module_version": "1.2.0",
      "model_name": "LayoutModel",
      "state": {
       "_model_module": "@jupyter-widgets/base",
       "_model_module_version": "1.2.0",
       "_model_name": "LayoutModel",
       "_view_count": null,
       "_view_module": "@jupyter-widgets/base",
       "_view_module_version": "1.2.0",
       "_view_name": "LayoutView",
       "align_content": null,
       "align_items": null,
       "align_self": null,
       "border": null,
       "bottom": null,
       "display": null,
       "flex": null,
       "flex_flow": null,
       "grid_area": null,
       "grid_auto_columns": null,
       "grid_auto_flow": null,
       "grid_auto_rows": null,
       "grid_column": null,
       "grid_gap": null,
       "grid_row": null,
       "grid_template_areas": null,
       "grid_template_columns": null,
       "grid_template_rows": null,
       "height": null,
       "justify_content": null,
       "justify_items": null,
       "left": null,
       "margin": null,
       "max_height": null,
       "max_width": null,
       "min_height": null,
       "min_width": null,
       "object_fit": null,
       "object_position": null,
       "order": null,
       "overflow": null,
       "overflow_x": null,
       "overflow_y": null,
       "padding": null,
       "right": null,
       "top": null,
       "visibility": null,
       "width": null
      }
     },
     "7ce7408c9772433a98650f84601297ee": {
      "model_module": "@jupyter-widgets/controls",
      "model_module_version": "1.5.0",
      "model_name": "DescriptionStyleModel",
      "state": {
       "_model_module": "@jupyter-widgets/controls",
       "_model_module_version": "1.5.0",
       "_model_name": "DescriptionStyleModel",
       "_view_count": null,
       "_view_module": "@jupyter-widgets/base",
       "_view_module_version": "1.2.0",
       "_view_name": "StyleView",
       "description_width": ""
      }
     },
     "7e6601d90c3f4f9aab6d1be4021677fc": {
      "model_module": "@jupyter-widgets/controls",
      "model_module_version": "1.5.0",
      "model_name": "HBoxModel",
      "state": {
       "_dom_classes": [],
       "_model_module": "@jupyter-widgets/controls",
       "_model_module_version": "1.5.0",
       "_model_name": "HBoxModel",
       "_view_count": null,
       "_view_module": "@jupyter-widgets/controls",
       "_view_module_version": "1.5.0",
       "_view_name": "HBoxView",
       "box_style": "",
       "children": [
        "IPY_MODEL_8fcdf0f266e64708a67ae7b547421a70",
        "IPY_MODEL_0c88ae612eed46e694cf34aca2ff0407",
        "IPY_MODEL_9925994d840a48c68716ae6345e7aebb"
       ],
       "layout": "IPY_MODEL_72904fa3581f4509b10bbdd064239713"
      }
     },
     "8bbcbcb16e7b45599c062e3d2ae83bf2": {
      "model_module": "@jupyter-widgets/controls",
      "model_module_version": "1.5.0",
      "model_name": "HTMLModel",
      "state": {
       "_dom_classes": [],
       "_model_module": "@jupyter-widgets/controls",
       "_model_module_version": "1.5.0",
       "_model_name": "HTMLModel",
       "_view_count": null,
       "_view_module": "@jupyter-widgets/controls",
       "_view_module_version": "1.5.0",
       "_view_name": "HTMLView",
       "description": "",
       "description_tooltip": null,
       "layout": "IPY_MODEL_e9ff1031e7594dc0b9f5cc87d63378fd",
       "placeholder": "​",
       "style": "IPY_MODEL_7ce7408c9772433a98650f84601297ee",
       "value": "model.safetensors: 100%"
      }
     },
     "8c21c608af1547a69403289507452ac5": {
      "model_module": "@jupyter-widgets/base",
      "model_module_version": "1.2.0",
      "model_name": "LayoutModel",
      "state": {
       "_model_module": "@jupyter-widgets/base",
       "_model_module_version": "1.2.0",
       "_model_name": "LayoutModel",
       "_view_count": null,
       "_view_module": "@jupyter-widgets/base",
       "_view_module_version": "1.2.0",
       "_view_name": "LayoutView",
       "align_content": null,
       "align_items": null,
       "align_self": null,
       "border": null,
       "bottom": null,
       "display": null,
       "flex": null,
       "flex_flow": null,
       "grid_area": null,
       "grid_auto_columns": null,
       "grid_auto_flow": null,
       "grid_auto_rows": null,
       "grid_column": null,
       "grid_gap": null,
       "grid_row": null,
       "grid_template_areas": null,
       "grid_template_columns": null,
       "grid_template_rows": null,
       "height": null,
       "justify_content": null,
       "justify_items": null,
       "left": null,
       "margin": null,
       "max_height": null,
       "max_width": null,
       "min_height": null,
       "min_width": null,
       "object_fit": null,
       "object_position": null,
       "order": null,
       "overflow": null,
       "overflow_x": null,
       "overflow_y": null,
       "padding": null,
       "right": null,
       "top": null,
       "visibility": null,
       "width": null
      }
     },
     "8eb864ef2f7c466c9c7f620c53ed1f7f": {
      "model_module": "@jupyter-widgets/controls",
      "model_module_version": "1.5.0",
      "model_name": "FloatProgressModel",
      "state": {
       "_dom_classes": [],
       "_model_module": "@jupyter-widgets/controls",
       "_model_module_version": "1.5.0",
       "_model_name": "FloatProgressModel",
       "_view_count": null,
       "_view_module": "@jupyter-widgets/controls",
       "_view_module_version": "1.5.0",
       "_view_name": "ProgressView",
       "bar_style": "success",
       "description": "",
       "description_tooltip": null,
       "layout": "IPY_MODEL_7b2d66cbad4e43578d4dae6064b2978e",
       "max": 570.0,
       "min": 0.0,
       "orientation": "horizontal",
       "style": "IPY_MODEL_4f80432ce5b940b48ac91cfad15cf8d7",
       "value": 570.0
      }
     },
     "8fcdf0f266e64708a67ae7b547421a70": {
      "model_module": "@jupyter-widgets/controls",
      "model_module_version": "1.5.0",
      "model_name": "HTMLModel",
      "state": {
       "_dom_classes": [],
       "_model_module": "@jupyter-widgets/controls",
       "_model_module_version": "1.5.0",
       "_model_name": "HTMLModel",
       "_view_count": null,
       "_view_module": "@jupyter-widgets/controls",
       "_view_module_version": "1.5.0",
       "_view_name": "HTMLView",
       "description": "",
       "description_tooltip": null,
       "layout": "IPY_MODEL_d1b1dcee247b4129814d38dbe362c6f4",
       "placeholder": "​",
       "style": "IPY_MODEL_f7e6bb8638bb4b1eb1d620bde6015b0e",
       "value": "tokenizer.json: 100%"
      }
     },
     "910707be377b44a2a91457880d4bea5d": {
      "model_module": "@jupyter-widgets/base",
      "model_module_version": "1.2.0",
      "model_name": "LayoutModel",
      "state": {
       "_model_module": "@jupyter-widgets/base",
       "_model_module_version": "1.2.0",
       "_model_name": "LayoutModel",
       "_view_count": null,
       "_view_module": "@jupyter-widgets/base",
       "_view_module_version": "1.2.0",
       "_view_name": "LayoutView",
       "align_content": null,
       "align_items": null,
       "align_self": null,
       "border": null,
       "bottom": null,
       "display": null,
       "flex": null,
       "flex_flow": null,
       "grid_area": null,
       "grid_auto_columns": null,
       "grid_auto_flow": null,
       "grid_auto_rows": null,
       "grid_column": null,
       "grid_gap": null,
       "grid_row": null,
       "grid_template_areas": null,
       "grid_template_columns": null,
       "grid_template_rows": null,
       "height": null,
       "justify_content": null,
       "justify_items": null,
       "left": null,
       "margin": null,
       "max_height": null,
       "max_width": null,
       "min_height": null,
       "min_width": null,
       "object_fit": null,
       "object_position": null,
       "order": null,
       "overflow": null,
       "overflow_x": null,
       "overflow_y": null,
       "padding": null,
       "right": null,
       "top": null,
       "visibility": null,
       "width": null
      }
     },
     "95ff05e4b14849b89cbe6006d514f2d4": {
      "model_module": "@jupyter-widgets/controls",
      "model_module_version": "1.5.0",
      "model_name": "DescriptionStyleModel",
      "state": {
       "_model_module": "@jupyter-widgets/controls",
       "_model_module_version": "1.5.0",
       "_model_name": "DescriptionStyleModel",
       "_view_count": null,
       "_view_module": "@jupyter-widgets/base",
       "_view_module_version": "1.2.0",
       "_view_name": "StyleView",
       "description_width": ""
      }
     },
     "9606d29cc9fb45cf8fdd49b033e774bb": {
      "model_module": "@jupyter-widgets/controls",
      "model_module_version": "1.5.0",
      "model_name": "DescriptionStyleModel",
      "state": {
       "_model_module": "@jupyter-widgets/controls",
       "_model_module_version": "1.5.0",
       "_model_name": "DescriptionStyleModel",
       "_view_count": null,
       "_view_module": "@jupyter-widgets/base",
       "_view_module_version": "1.2.0",
       "_view_name": "StyleView",
       "description_width": ""
      }
     },
     "9925994d840a48c68716ae6345e7aebb": {
      "model_module": "@jupyter-widgets/controls",
      "model_module_version": "1.5.0",
      "model_name": "HTMLModel",
      "state": {
       "_dom_classes": [],
       "_model_module": "@jupyter-widgets/controls",
       "_model_module_version": "1.5.0",
       "_model_name": "HTMLModel",
       "_view_count": null,
       "_view_module": "@jupyter-widgets/controls",
       "_view_module_version": "1.5.0",
       "_view_name": "HTMLView",
       "description": "",
       "description_tooltip": null,
       "layout": "IPY_MODEL_70cc649a45ca427e8a2574f0a54c8195",
       "placeholder": "​",
       "style": "IPY_MODEL_c495cacdd15945abb3bd24d31619ef05",
       "value": " 466k/466k [00:00&lt;00:00, 7.21MB/s]"
      }
     },
     "9f3cf0edd9db43bca5a84fc097f56557": {
      "model_module": "@jupyter-widgets/controls",
      "model_module_version": "1.5.0",
      "model_name": "FloatProgressModel",
      "state": {
       "_dom_classes": [],
       "_model_module": "@jupyter-widgets/controls",
       "_model_module_version": "1.5.0",
       "_model_name": "FloatProgressModel",
       "_view_count": null,
       "_view_module": "@jupyter-widgets/controls",
       "_view_module_version": "1.5.0",
       "_view_name": "ProgressView",
       "bar_style": "success",
       "description": "",
       "description_tooltip": null,
       "layout": "IPY_MODEL_c63f5212f853492aabb314fd8fa1bdd8",
       "max": 231508.0,
       "min": 0.0,
       "orientation": "horizontal",
       "style": "IPY_MODEL_286cfc2a66224b3ea70c6af59fef13cf",
       "value": 231508.0
      }
     },
     "a1842ef7d7b6425d9499d7edd24f2bbc": {
      "model_module": "@jupyter-widgets/base",
      "model_module_version": "1.2.0",
      "model_name": "LayoutModel",
      "state": {
       "_model_module": "@jupyter-widgets/base",
       "_model_module_version": "1.2.0",
       "_model_name": "LayoutModel",
       "_view_count": null,
       "_view_module": "@jupyter-widgets/base",
       "_view_module_version": "1.2.0",
       "_view_name": "LayoutView",
       "align_content": null,
       "align_items": null,
       "align_self": null,
       "border": null,
       "bottom": null,
       "display": null,
       "flex": null,
       "flex_flow": null,
       "grid_area": null,
       "grid_auto_columns": null,
       "grid_auto_flow": null,
       "grid_auto_rows": null,
       "grid_column": null,
       "grid_gap": null,
       "grid_row": null,
       "grid_template_areas": null,
       "grid_template_columns": null,
       "grid_template_rows": null,
       "height": null,
       "justify_content": null,
       "justify_items": null,
       "left": null,
       "margin": null,
       "max_height": null,
       "max_width": null,
       "min_height": null,
       "min_width": null,
       "object_fit": null,
       "object_position": null,
       "order": null,
       "overflow": null,
       "overflow_x": null,
       "overflow_y": null,
       "padding": null,
       "right": null,
       "top": null,
       "visibility": null,
       "width": null
      }
     },
     "a7ab2428807f442b8683b8796611b524": {
      "model_module": "@jupyter-widgets/base",
      "model_module_version": "1.2.0",
      "model_name": "LayoutModel",
      "state": {
       "_model_module": "@jupyter-widgets/base",
       "_model_module_version": "1.2.0",
       "_model_name": "LayoutModel",
       "_view_count": null,
       "_view_module": "@jupyter-widgets/base",
       "_view_module_version": "1.2.0",
       "_view_name": "LayoutView",
       "align_content": null,
       "align_items": null,
       "align_self": null,
       "border": null,
       "bottom": null,
       "display": null,
       "flex": null,
       "flex_flow": null,
       "grid_area": null,
       "grid_auto_columns": null,
       "grid_auto_flow": null,
       "grid_auto_rows": null,
       "grid_column": null,
       "grid_gap": null,
       "grid_row": null,
       "grid_template_areas": null,
       "grid_template_columns": null,
       "grid_template_rows": null,
       "height": null,
       "justify_content": null,
       "justify_items": null,
       "left": null,
       "margin": null,
       "max_height": null,
       "max_width": null,
       "min_height": null,
       "min_width": null,
       "object_fit": null,
       "object_position": null,
       "order": null,
       "overflow": null,
       "overflow_x": null,
       "overflow_y": null,
       "padding": null,
       "right": null,
       "top": null,
       "visibility": null,
       "width": null
      }
     },
     "aa0acf74a74744a98688f86b71e6dc50": {
      "model_module": "@jupyter-widgets/base",
      "model_module_version": "1.2.0",
      "model_name": "LayoutModel",
      "state": {
       "_model_module": "@jupyter-widgets/base",
       "_model_module_version": "1.2.0",
       "_model_name": "LayoutModel",
       "_view_count": null,
       "_view_module": "@jupyter-widgets/base",
       "_view_module_version": "1.2.0",
       "_view_name": "LayoutView",
       "align_content": null,
       "align_items": null,
       "align_self": null,
       "border": null,
       "bottom": null,
       "display": null,
       "flex": null,
       "flex_flow": null,
       "grid_area": null,
       "grid_auto_columns": null,
       "grid_auto_flow": null,
       "grid_auto_rows": null,
       "grid_column": null,
       "grid_gap": null,
       "grid_row": null,
       "grid_template_areas": null,
       "grid_template_columns": null,
       "grid_template_rows": null,
       "height": null,
       "justify_content": null,
       "justify_items": null,
       "left": null,
       "margin": null,
       "max_height": null,
       "max_width": null,
       "min_height": null,
       "min_width": null,
       "object_fit": null,
       "object_position": null,
       "order": null,
       "overflow": null,
       "overflow_x": null,
       "overflow_y": null,
       "padding": null,
       "right": null,
       "top": null,
       "visibility": null,
       "width": null
      }
     },
     "b076f6e1ed0041eb95753dc347213308": {
      "model_module": "@jupyter-widgets/controls",
      "model_module_version": "1.5.0",
      "model_name": "HBoxModel",
      "state": {
       "_dom_classes": [],
       "_model_module": "@jupyter-widgets/controls",
       "_model_module_version": "1.5.0",
       "_model_name": "HBoxModel",
       "_view_count": null,
       "_view_module": "@jupyter-widgets/controls",
       "_view_module_version": "1.5.0",
       "_view_name": "HBoxView",
       "box_style": "",
       "children": [
        "IPY_MODEL_66b4f3361c284bfc8cf6880b4fa768eb",
        "IPY_MODEL_f0b8eb1192ec4ea29b0cf796fc970637",
        "IPY_MODEL_c5687ac9d27a45498f8c0946fc6f5071"
       ],
       "layout": "IPY_MODEL_bb13816ad2da4f048671a91f1d3b3c51"
      }
     },
     "b2d1add24e5a4c968476451c8f6b1a58": {
      "model_module": "@jupyter-widgets/controls",
      "model_module_version": "1.5.0",
      "model_name": "FloatProgressModel",
      "state": {
       "_dom_classes": [],
       "_model_module": "@jupyter-widgets/controls",
       "_model_module_version": "1.5.0",
       "_model_name": "FloatProgressModel",
       "_view_count": null,
       "_view_module": "@jupyter-widgets/controls",
       "_view_module_version": "1.5.0",
       "_view_name": "ProgressView",
       "bar_style": "success",
       "description": "",
       "description_tooltip": null,
       "layout": "IPY_MODEL_129048e976ac4e94906927215dc27e58",
       "max": 440449768.0,
       "min": 0.0,
       "orientation": "horizontal",
       "style": "IPY_MODEL_025ddd61933944239aa66e308a78ab10",
       "value": 440449768.0
      }
     },
     "b2f95abdfc444dbd8b7a88feb62f4294": {
      "model_module": "@jupyter-widgets/controls",
      "model_module_version": "1.5.0",
      "model_name": "HTMLModel",
      "state": {
       "_dom_classes": [],
       "_model_module": "@jupyter-widgets/controls",
       "_model_module_version": "1.5.0",
       "_model_name": "HTMLModel",
       "_view_count": null,
       "_view_module": "@jupyter-widgets/controls",
       "_view_module_version": "1.5.0",
       "_view_name": "HTMLView",
       "description": "",
       "description_tooltip": null,
       "layout": "IPY_MODEL_58f62feaff5c4902a72a2d9cb87e0299",
       "placeholder": "​",
       "style": "IPY_MODEL_5d826e7fd68141be9919889bc0be9417",
       "value": "vocab.txt: 100%"
      }
     },
     "bb13816ad2da4f048671a91f1d3b3c51": {
      "model_module": "@jupyter-widgets/base",
      "model_module_version": "1.2.0",
      "model_name": "LayoutModel",
      "state": {
       "_model_module": "@jupyter-widgets/base",
       "_model_module_version": "1.2.0",
       "_model_name": "LayoutModel",
       "_view_count": null,
       "_view_module": "@jupyter-widgets/base",
       "_view_module_version": "1.2.0",
       "_view_name": "LayoutView",
       "align_content": null,
       "align_items": null,
       "align_self": null,
       "border": null,
       "bottom": null,
       "display": null,
       "flex": null,
       "flex_flow": null,
       "grid_area": null,
       "grid_auto_columns": null,
       "grid_auto_flow": null,
       "grid_auto_rows": null,
       "grid_column": null,
       "grid_gap": null,
       "grid_row": null,
       "grid_template_areas": null,
       "grid_template_columns": null,
       "grid_template_rows": null,
       "height": null,
       "justify_content": null,
       "justify_items": null,
       "left": null,
       "margin": null,
       "max_height": null,
       "max_width": null,
       "min_height": null,
       "min_width": null,
       "object_fit": null,
       "object_position": null,
       "order": null,
       "overflow": null,
       "overflow_x": null,
       "overflow_y": null,
       "padding": null,
       "right": null,
       "top": null,
       "visibility": null,
       "width": null
      }
     },
     "c495cacdd15945abb3bd24d31619ef05": {
      "model_module": "@jupyter-widgets/controls",
      "model_module_version": "1.5.0",
      "model_name": "DescriptionStyleModel",
      "state": {
       "_model_module": "@jupyter-widgets/controls",
       "_model_module_version": "1.5.0",
       "_model_name": "DescriptionStyleModel",
       "_view_count": null,
       "_view_module": "@jupyter-widgets/base",
       "_view_module_version": "1.2.0",
       "_view_name": "StyleView",
       "description_width": ""
      }
     },
     "c5687ac9d27a45498f8c0946fc6f5071": {
      "model_module": "@jupyter-widgets/controls",
      "model_module_version": "1.5.0",
      "model_name": "HTMLModel",
      "state": {
       "_dom_classes": [],
       "_model_module": "@jupyter-widgets/controls",
       "_model_module_version": "1.5.0",
       "_model_name": "HTMLModel",
       "_view_count": null,
       "_view_module": "@jupyter-widgets/controls",
       "_view_module_version": "1.5.0",
       "_view_name": "HTMLView",
       "description": "",
       "description_tooltip": null,
       "layout": "IPY_MODEL_8c21c608af1547a69403289507452ac5",
       "placeholder": "​",
       "style": "IPY_MODEL_db8f4f807ebc4438b589848bcf551176",
       "value": " 48.0/48.0 [00:00&lt;00:00, 3.90kB/s]"
      }
     },
     "c63f5212f853492aabb314fd8fa1bdd8": {
      "model_module": "@jupyter-widgets/base",
      "model_module_version": "1.2.0",
      "model_name": "LayoutModel",
      "state": {
       "_model_module": "@jupyter-widgets/base",
       "_model_module_version": "1.2.0",
       "_model_name": "LayoutModel",
       "_view_count": null,
       "_view_module": "@jupyter-widgets/base",
       "_view_module_version": "1.2.0",
       "_view_name": "LayoutView",
       "align_content": null,
       "align_items": null,
       "align_self": null,
       "border": null,
       "bottom": null,
       "display": null,
       "flex": null,
       "flex_flow": null,
       "grid_area": null,
       "grid_auto_columns": null,
       "grid_auto_flow": null,
       "grid_auto_rows": null,
       "grid_column": null,
       "grid_gap": null,
       "grid_row": null,
       "grid_template_areas": null,
       "grid_template_columns": null,
       "grid_template_rows": null,
       "height": null,
       "justify_content": null,
       "justify_items": null,
       "left": null,
       "margin": null,
       "max_height": null,
       "max_width": null,
       "min_height": null,
       "min_width": null,
       "object_fit": null,
       "object_position": null,
       "order": null,
       "overflow": null,
       "overflow_x": null,
       "overflow_y": null,
       "padding": null,
       "right": null,
       "top": null,
       "visibility": null,
       "width": null
      }
     },
     "d1b1dcee247b4129814d38dbe362c6f4": {
      "model_module": "@jupyter-widgets/base",
      "model_module_version": "1.2.0",
      "model_name": "LayoutModel",
      "state": {
       "_model_module": "@jupyter-widgets/base",
       "_model_module_version": "1.2.0",
       "_model_name": "LayoutModel",
       "_view_count": null,
       "_view_module": "@jupyter-widgets/base",
       "_view_module_version": "1.2.0",
       "_view_name": "LayoutView",
       "align_content": null,
       "align_items": null,
       "align_self": null,
       "border": null,
       "bottom": null,
       "display": null,
       "flex": null,
       "flex_flow": null,
       "grid_area": null,
       "grid_auto_columns": null,
       "grid_auto_flow": null,
       "grid_auto_rows": null,
       "grid_column": null,
       "grid_gap": null,
       "grid_row": null,
       "grid_template_areas": null,
       "grid_template_columns": null,
       "grid_template_rows": null,
       "height": null,
       "justify_content": null,
       "justify_items": null,
       "left": null,
       "margin": null,
       "max_height": null,
       "max_width": null,
       "min_height": null,
       "min_width": null,
       "object_fit": null,
       "object_position": null,
       "order": null,
       "overflow": null,
       "overflow_x": null,
       "overflow_y": null,
       "padding": null,
       "right": null,
       "top": null,
       "visibility": null,
       "width": null
      }
     },
     "da24435898424ab4a4bc20da875eed49": {
      "model_module": "@jupyter-widgets/controls",
      "model_module_version": "1.5.0",
      "model_name": "DescriptionStyleModel",
      "state": {
       "_model_module": "@jupyter-widgets/controls",
       "_model_module_version": "1.5.0",
       "_model_name": "DescriptionStyleModel",
       "_view_count": null,
       "_view_module": "@jupyter-widgets/base",
       "_view_module_version": "1.2.0",
       "_view_name": "StyleView",
       "description_width": ""
      }
     },
     "db8f4f807ebc4438b589848bcf551176": {
      "model_module": "@jupyter-widgets/controls",
      "model_module_version": "1.5.0",
      "model_name": "DescriptionStyleModel",
      "state": {
       "_model_module": "@jupyter-widgets/controls",
       "_model_module_version": "1.5.0",
       "_model_name": "DescriptionStyleModel",
       "_view_count": null,
       "_view_module": "@jupyter-widgets/base",
       "_view_module_version": "1.2.0",
       "_view_name": "StyleView",
       "description_width": ""
      }
     },
     "dc5cf2ef010a441392ca35304e43d333": {
      "model_module": "@jupyter-widgets/controls",
      "model_module_version": "1.5.0",
      "model_name": "DescriptionStyleModel",
      "state": {
       "_model_module": "@jupyter-widgets/controls",
       "_model_module_version": "1.5.0",
       "_model_name": "DescriptionStyleModel",
       "_view_count": null,
       "_view_module": "@jupyter-widgets/base",
       "_view_module_version": "1.2.0",
       "_view_name": "StyleView",
       "description_width": ""
      }
     },
     "dd5bb42dd6ad4b4384dec72984c11a43": {
      "model_module": "@jupyter-widgets/controls",
      "model_module_version": "1.5.0",
      "model_name": "HTMLModel",
      "state": {
       "_dom_classes": [],
       "_model_module": "@jupyter-widgets/controls",
       "_model_module_version": "1.5.0",
       "_model_name": "HTMLModel",
       "_view_count": null,
       "_view_module": "@jupyter-widgets/controls",
       "_view_module_version": "1.5.0",
       "_view_name": "HTMLView",
       "description": "",
       "description_tooltip": null,
       "layout": "IPY_MODEL_febe864652c64550bb920dc1ea36f56f",
       "placeholder": "​",
       "style": "IPY_MODEL_123f0412b49940e9bac82ad79812404c",
       "value": " 232k/232k [00:00&lt;00:00, 1.78MB/s]"
      }
     },
     "e5ec19e0475a4403b57b9d42b47f205e": {
      "model_module": "@jupyter-widgets/controls",
      "model_module_version": "1.5.0",
      "model_name": "HBoxModel",
      "state": {
       "_dom_classes": [],
       "_model_module": "@jupyter-widgets/controls",
       "_model_module_version": "1.5.0",
       "_model_name": "HBoxModel",
       "_view_count": null,
       "_view_module": "@jupyter-widgets/controls",
       "_view_module_version": "1.5.0",
       "_view_name": "HBoxView",
       "box_style": "",
       "children": [
        "IPY_MODEL_78d90e1a38934636af722b30a8ad3525",
        "IPY_MODEL_8eb864ef2f7c466c9c7f620c53ed1f7f",
        "IPY_MODEL_516bae42f835429daffd1f01d152849e"
       ],
       "layout": "IPY_MODEL_47a9ed6dfcd941d4864123c77b337e8b"
      }
     },
     "e9ff1031e7594dc0b9f5cc87d63378fd": {
      "model_module": "@jupyter-widgets/base",
      "model_module_version": "1.2.0",
      "model_name": "LayoutModel",
      "state": {
       "_model_module": "@jupyter-widgets/base",
       "_model_module_version": "1.2.0",
       "_model_name": "LayoutModel",
       "_view_count": null,
       "_view_module": "@jupyter-widgets/base",
       "_view_module_version": "1.2.0",
       "_view_name": "LayoutView",
       "align_content": null,
       "align_items": null,
       "align_self": null,
       "border": null,
       "bottom": null,
       "display": null,
       "flex": null,
       "flex_flow": null,
       "grid_area": null,
       "grid_auto_columns": null,
       "grid_auto_flow": null,
       "grid_auto_rows": null,
       "grid_column": null,
       "grid_gap": null,
       "grid_row": null,
       "grid_template_areas": null,
       "grid_template_columns": null,
       "grid_template_rows": null,
       "height": null,
       "justify_content": null,
       "justify_items": null,
       "left": null,
       "margin": null,
       "max_height": null,
       "max_width": null,
       "min_height": null,
       "min_width": null,
       "object_fit": null,
       "object_position": null,
       "order": null,
       "overflow": null,
       "overflow_x": null,
       "overflow_y": null,
       "padding": null,
       "right": null,
       "top": null,
       "visibility": null,
       "width": null
      }
     },
     "f0b8eb1192ec4ea29b0cf796fc970637": {
      "model_module": "@jupyter-widgets/controls",
      "model_module_version": "1.5.0",
      "model_name": "FloatProgressModel",
      "state": {
       "_dom_classes": [],
       "_model_module": "@jupyter-widgets/controls",
       "_model_module_version": "1.5.0",
       "_model_name": "FloatProgressModel",
       "_view_count": null,
       "_view_module": "@jupyter-widgets/controls",
       "_view_module_version": "1.5.0",
       "_view_name": "ProgressView",
       "bar_style": "success",
       "description": "",
       "description_tooltip": null,
       "layout": "IPY_MODEL_aa0acf74a74744a98688f86b71e6dc50",
       "max": 48.0,
       "min": 0.0,
       "orientation": "horizontal",
       "style": "IPY_MODEL_11b9c9d617ea40c9870b042406f0a7c0",
       "value": 48.0
      }
     },
     "f7e6bb8638bb4b1eb1d620bde6015b0e": {
      "model_module": "@jupyter-widgets/controls",
      "model_module_version": "1.5.0",
      "model_name": "DescriptionStyleModel",
      "state": {
       "_model_module": "@jupyter-widgets/controls",
       "_model_module_version": "1.5.0",
       "_model_name": "DescriptionStyleModel",
       "_view_count": null,
       "_view_module": "@jupyter-widgets/base",
       "_view_module_version": "1.2.0",
       "_view_name": "StyleView",
       "description_width": ""
      }
     },
     "fc7734702a0d4c9295e539bafba7733f": {
      "model_module": "@jupyter-widgets/base",
      "model_module_version": "1.2.0",
      "model_name": "LayoutModel",
      "state": {
       "_model_module": "@jupyter-widgets/base",
       "_model_module_version": "1.2.0",
       "_model_name": "LayoutModel",
       "_view_count": null,
       "_view_module": "@jupyter-widgets/base",
       "_view_module_version": "1.2.0",
       "_view_name": "LayoutView",
       "align_content": null,
       "align_items": null,
       "align_self": null,
       "border": null,
       "bottom": null,
       "display": null,
       "flex": null,
       "flex_flow": null,
       "grid_area": null,
       "grid_auto_columns": null,
       "grid_auto_flow": null,
       "grid_auto_rows": null,
       "grid_column": null,
       "grid_gap": null,
       "grid_row": null,
       "grid_template_areas": null,
       "grid_template_columns": null,
       "grid_template_rows": null,
       "height": null,
       "justify_content": null,
       "justify_items": null,
       "left": null,
       "margin": null,
       "max_height": null,
       "max_width": null,
       "min_height": null,
       "min_width": null,
       "object_fit": null,
       "object_position": null,
       "order": null,
       "overflow": null,
       "overflow_x": null,
       "overflow_y": null,
       "padding": null,
       "right": null,
       "top": null,
       "visibility": null,
       "width": null
      }
     },
     "febe864652c64550bb920dc1ea36f56f": {
      "model_module": "@jupyter-widgets/base",
      "model_module_version": "1.2.0",
      "model_name": "LayoutModel",
      "state": {
       "_model_module": "@jupyter-widgets/base",
       "_model_module_version": "1.2.0",
       "_model_name": "LayoutModel",
       "_view_count": null,
       "_view_module": "@jupyter-widgets/base",
       "_view_module_version": "1.2.0",
       "_view_name": "LayoutView",
       "align_content": null,
       "align_items": null,
       "align_self": null,
       "border": null,
       "bottom": null,
       "display": null,
       "flex": null,
       "flex_flow": null,
       "grid_area": null,
       "grid_auto_columns": null,
       "grid_auto_flow": null,
       "grid_auto_rows": null,
       "grid_column": null,
       "grid_gap": null,
       "grid_row": null,
       "grid_template_areas": null,
       "grid_template_columns": null,
       "grid_template_rows": null,
       "height": null,
       "justify_content": null,
       "justify_items": null,
       "left": null,
       "margin": null,
       "max_height": null,
       "max_width": null,
       "min_height": null,
       "min_width": null,
       "object_fit": null,
       "object_position": null,
       "order": null,
       "overflow": null,
       "overflow_x": null,
       "overflow_y": null,
       "padding": null,
       "right": null,
       "top": null,
       "visibility": null,
       "width": null
      }
     }
    },
    "version_major": 2,
    "version_minor": 0
   }
  }
 },
 "nbformat": 4,
 "nbformat_minor": 5
}
